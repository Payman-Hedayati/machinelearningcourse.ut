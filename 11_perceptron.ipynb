{
 "cells": [
  {
   "cell_type": "markdown",
   "metadata": {
    "collapsed": true
   },
   "source": [
    "<img src=\"./images/logo.png\" alt=\"utech academy\">"
   ]
  },
  {
   "cell_type": "markdown",
   "metadata": {
    "collapsed": true
   },
   "source": [
    "<div class=\"alert\">\n",
    "<div style=\"direction:ltr;text-align:left;font-family:Tahoma; font-size:16pt\"> Perceptron\n",
    "</div>\n",
    "</div>"
   ]
  },
  {
   "cell_type": "markdown",
   "metadata": {},
   "source": [
    "<img src=\"./images/perceptron_schematic_overview.png\" alt=\"Perceptron Schematic\">\n",
    "<a href=\"http://ataspinar.com/wp-content/uploads/2016/11/perceptron_schematic_overview.png\">Reference</a>"
   ]
  },
  {
   "cell_type": "markdown",
   "metadata": {},
   "source": [
    "<div style=\"direction:ltr;text-align:left;font-family: Tahoma\">\n",
    "Import the required libraries.<br>\n",
    "</div>"
   ]
  },
  {
   "cell_type": "code",
   "execution_count": 1,
   "metadata": {
    "nbpresent": {
     "id": "de829a92-1fb6-44ad-a2c6-fc1001e1f6e1"
    }
   },
   "outputs": [],
   "source": [
    "import cv2\n",
    "import numpy as np\n",
    "import matplotlib.pyplot as plt\n",
    "from sklearn.linear_model import Perceptron\n",
    "from scipy import io"
   ]
  },
  {
   "cell_type": "markdown",
   "metadata": {},
   "source": [
    "<div style=\"direction:ltr;text-align:left;font-family: Tahoma\">\n",
    "The function to load the preprocessed dataset:<br>\n",
    "</div>"
   ]
  },
  {
   "cell_type": "code",
   "execution_count": 2,
   "metadata": {},
   "outputs": [],
   "source": [
    "def load_hoda(dataset_dir, training_sample_size=1000, test_sample_size=200, size=5):\n",
    "    # Load the dataset\n",
    "    trs = training_sample_size\n",
    "    tes = test_sample_size\n",
    "    dataset = io.loadmat(dataset_dir)\n",
    "\n",
    "    # Split training and test set\n",
    "    X_train_orginal = np.squeeze(dataset['Data'][:trs])\n",
    "    y_train = np.squeeze(dataset['labels'][:trs])\n",
    "    X_test_original = np.squeeze(dataset['Data'][trs:trs+tes])\n",
    "    y_test = np.squeeze(dataset['labels'][trs:trs+tes])\n",
    "\n",
    "    # Resize the dataset\n",
    "    X_train_5by5 = [cv2.resize(img, dsize=(size, size)) for img in X_train_orginal]\n",
    "    X_test_5by_5 = [cv2.resize(img, dsize=(size, size)) for img in X_test_original]\n",
    "    \n",
    "    # Reshape the dataset\n",
    "    X_train = [x.reshape(size*size) for x in X_train_5by5]\n",
    "    X_test = [x.reshape(size*size) for x in X_test_5by_5]\n",
    "    \n",
    "    return X_train, y_train, X_test, y_test"
   ]
  },
  {
   "cell_type": "markdown",
   "metadata": {},
   "source": [
    "<div style=\"direction:ltr;text-align:left;font-family: Tahoma\">\n",
    "Loading the dataset:\n",
    "</div>"
   ]
  },
  {
   "cell_type": "code",
   "execution_count": 3,
   "metadata": {},
   "outputs": [],
   "source": [
    "# Load the dataset\n",
    "X_train, y_train, X_test, y_test = load_hoda(dataset_dir='./datasets/hoda.mat')"
   ]
  },
  {
   "cell_type": "markdown",
   "metadata": {},
   "source": [
    "<div style=\"direction:ltr;text-align:left;font-family: Tahoma\">\n",
    "Displaying the dataset:\n",
    "</div>"
   ]
  },
  {
   "cell_type": "code",
   "execution_count": 4,
   "metadata": {},
   "outputs": [
    {
     "data": {
      "text/plain": [
       "<matplotlib.image.AxesImage at 0x1c6281b2e80>"
      ]
     },
     "execution_count": 4,
     "metadata": {},
     "output_type": "execute_result"
    },
    {
     "data": {
      "image/png": "[encoded data removed]",
      "text/plain": [
       "<Figure size 432x288 with 1 Axes>"
      ]
     },
     "metadata": {},
     "output_type": "display_data"
    }
   ],
   "source": [
    "plt.imshow(X_train[1].reshape((5, 5)), cmap='gray')"
   ]
  },
  {
   "cell_type": "markdown",
   "metadata": {},
   "source": [
    "<div style=\"direction:ltr;text-align:left;font-family: Tahoma\">\n",
    "Normalize the dataset between 0 and 1:\n",
    "</div>"
   ]
  },
  {
   "cell_type": "code",
   "execution_count": 5,
   "metadata": {},
   "outputs": [],
   "source": [
    "x_train = np.array(X_train).astype('float32')\n",
    "x_test = np.array(X_test).astype('float32')\n",
    "\n",
    "x_train /= 255\n",
    "x_test /= 255"
   ]
  },
  {
   "cell_type": "markdown",
   "metadata": {},
   "source": [
    "<div style=\"direction:ltr;text-align:left;font-family: Tahoma\">\n",
    "Defining the classifier:\n",
    "</div>"
   ]
  },
  {
   "cell_type": "code",
   "execution_count": 6,
   "metadata": {},
   "outputs": [],
   "source": [
    "# OVA (One-Vs-All) in multicalss classification\n",
    "perceptron = Perceptron(verbose=1)"
   ]
  },
  {
   "cell_type": "markdown",
   "metadata": {},
   "source": [
    "<div style=\"direction:ltr;text-align:left;font-family: Tahoma\">\n",
    "Fitting the classifier:\n",
    "</div>"
   ]
  },
  {
   "cell_type": "code",
   "execution_count": 7,
   "metadata": {},
   "outputs": [
    {
     "name": "stdout",
     "output_type": "stream",
     "text": [
      "-- Epoch 1\n",
      "Norm: 15.69, NNZs: 25, Bias: -17.000000, T: 1000, Avg. loss: 0.257952\n",
      "Total training time: 0.00 seconds.\n",
      "-- Epoch 2\n",
      "Norm: 17.71, NNZs: 25, Bias: -21.000000, T: 2000, Avg. loss: 0.142073\n",
      "Total training time: 0.00 seconds.\n",
      "-- Epoch 3\n",
      "Norm: 18.93, NNZs: 25, Bias: -24.000000, T: 3000, Avg. loss: 0.126257\n",
      "Total training time: 0.00 seconds.\n",
      "-- Epoch 4\n",
      "Norm: 20.46, NNZs: 25, Bias: -28.000000, T: 4000, Avg. loss: 0.116755\n",
      "Total training time: 0.00 seconds.\n",
      "-- Epoch 5\n",
      "Norm: 21.34, NNZs: 25, Bias: -30.000000, T: 5000, Avg. loss: 0.123382\n",
      "Total training time: 0.00 seconds.\n",
      "-- Epoch 6\n",
      "Norm: 23.00, NNZs: 25, Bias: -31.000000, T: 6000, Avg. loss: 0.073633\n",
      "Total training time: 0.00 seconds.\n",
      "-- Epoch 7\n",
      "Norm: 25.20, NNZs: 25, Bias: -31.000000, T: 7000, Avg. loss: 0.045623\n",
      "Total training time: 0.00 seconds.\n",
      "-- Epoch 8\n",
      "Norm: 24.56, NNZs: 25, Bias: -34.000000, T: 8000, Avg. loss: 0.075340\n",
      "Total training time: 0.00 seconds.\n",
      "-- Epoch 9\n",
      "Norm: 23.55, NNZs: 25, Bias: -37.000000, T: 9000, Avg. loss: 0.103145\n",
      "Total training time: 0.00 seconds.\n",
      "-- Epoch 10\n",
      "Norm: 24.96, NNZs: 25, Bias: -38.000000, T: 10000, Avg. loss: 0.067811\n",
      "Total training time: 0.00 seconds.\n",
      "-- Epoch 11\n",
      "Norm: 26.35, NNZs: 25, Bias: -39.000000, T: 11000, Avg. loss: 0.048112\n",
      "Total training time: 0.00 seconds.\n",
      "-- Epoch 12\n",
      "Norm: 27.51, NNZs: 25, Bias: -39.000000, T: 12000, Avg. loss: 0.063025\n",
      "Total training time: 0.00 seconds.\n",
      "Convergence after 12 epochs took 0.00 seconds\n",
      "-- Epoch 1\n",
      "Norm: 13.07, NNZs: 25, Bias: -10.000000, T: 1000, Avg. loss: 0.259755\n",
      "Total training time: 0.00 seconds.\n",
      "-- Epoch 2\n",
      "Norm: 16.87, NNZs: 25, Bias: -14.000000, T: 2000, Avg. loss: 0.201668\n",
      "Total training time: 0.00 seconds.\n",
      "-- Epoch 3\n",
      "Norm: 19.17, NNZs: 25, Bias: -18.000000, T: 3000, Avg. loss: 0.173593\n",
      "Total training time: 0.00 seconds.\n",
      "-- Epoch 4\n",
      "Norm: 18.10, NNZs: 25, Bias: -20.000000, T: 4000, Avg. loss: 0.189424\n",
      "Total training time: 0.00 seconds.\n",
      "-- Epoch 5\n",
      "Norm: 20.06, NNZs: 25, Bias: -21.000000, T: 5000, Avg. loss: 0.105590\n",
      "Total training time: 0.00 seconds.\n",
      "-- Epoch 6\n",
      "Norm: 20.48, NNZs: 25, Bias: -23.000000, T: 6000, Avg. loss: 0.166561\n",
      "Total training time: 0.00 seconds.\n",
      "-- Epoch 7\n",
      "Norm: 19.53, NNZs: 25, Bias: -26.000000, T: 7000, Avg. loss: 0.137280\n",
      "Total training time: 0.00 seconds.\n",
      "-- Epoch 8\n",
      "Norm: 20.97, NNZs: 25, Bias: -27.000000, T: 8000, Avg. loss: 0.158460\n",
      "Total training time: 0.00 seconds.\n",
      "-- Epoch 9\n",
      "Norm: 21.26, NNZs: 25, Bias: -27.000000, T: 9000, Avg. loss: 0.124167\n",
      "Total training time: 0.00 seconds.\n",
      "-- Epoch 10\n",
      "Norm: 21.47, NNZs: 25, Bias: -29.000000, T: 10000, Avg. loss: 0.138215\n",
      "Total training time: 0.00 seconds.\n",
      "Convergence after 10 epochs took 0.00 seconds\n",
      "-- Epoch 1\n",
      "Norm: 14.16, NNZs: 25, Bias: -4.000000, T: 1000, Avg. loss: 0.329880\n",
      "Total training time: 0.00 seconds.\n",
      "-- Epoch 2\n",
      "Norm: 17.58, NNZs: 25, Bias: -8.000000, T: 2000, Avg. loss: 0.300658\n",
      "Total training time: 0.00 seconds.\n",
      "-- Epoch 3\n",
      "Norm: 18.88, NNZs: 25, Bias: -10.000000, T: 3000, Avg. loss: 0.277122\n",
      "Total training time: 0.00 seconds.\n",
      "-- Epoch 4\n",
      "Norm: 20.19, NNZs: 25, Bias: -13.000000, T: 4000, Avg. loss: 0.269846\n",
      "Total training time: 0.00 seconds.\n",
      "-- Epoch 5\n",
      "Norm: 21.78, NNZs: 25, Bias: -13.000000, T: 5000, Avg. loss: 0.301646\n",
      "Total training time: 0.00 seconds.\n",
      "-- Epoch 6\n",
      "Norm: 22.62, NNZs: 25, Bias: -13.000000, T: 6000, Avg. loss: 0.245475\n",
      "Total training time: 0.00 seconds.\n",
      "-- Epoch 7\n",
      "Norm: 22.45, NNZs: 25, Bias: -15.000000, T: 7000, Avg. loss: 0.244002\n",
      "Total training time: 0.00 seconds.\n",
      "-- Epoch 8\n",
      "Norm: 23.77, NNZs: 25, Bias: -15.000000, T: 8000, Avg. loss: 0.285417\n",
      "Total training time: 0.00 seconds.\n",
      "-- Epoch 9\n",
      "Norm: 23.26, NNZs: 25, Bias: -18.000000, T: 9000, Avg. loss: 0.235418\n",
      "Total training time: 0.00 seconds.\n",
      "-- Epoch 10\n",
      "Norm: 25.53, NNZs: 25, Bias: -18.000000, T: 10000, Avg. loss: 0.271390\n",
      "Total training time: 0.00 seconds.\n",
      "-- Epoch 11\n",
      "Norm: 26.35, NNZs: 25, Bias: -18.000000, T: 11000, Avg. loss: 0.231792\n",
      "Total training time: 0.00 seconds.\n",
      "-- Epoch 12\n",
      "Norm: 26.65, NNZs: 25, Bias: -20.000000, T: 12000, Avg. loss: 0.202065\n",
      "Total training time: 0.00 seconds.\n",
      "-- Epoch 13\n",
      "Norm: 27.66, NNZs: 25, Bias: -19.000000, T: 13000, Avg. loss: 0.287180\n",
      "Total training time: 0.00 seconds.\n",
      "-- Epoch 14\n",
      "Norm: 27.57, NNZs: 25, Bias: -21.000000, T: 14000, Avg. loss: 0.296301\n",
      "Total training time: 0.00 seconds.\n",
      "-- Epoch 15\n",
      "Norm: 27.56, NNZs: 25, Bias: -22.000000, T: 15000, Avg. loss: 0.258386\n",
      "Total training time: 0.00 seconds.\n",
      "-- Epoch 16\n",
      "Norm: 27.77, NNZs: 25, Bias: -23.000000, T: 16000, Avg. loss: 0.291976\n",
      "Total training time: 0.00 seconds.\n",
      "-- Epoch 17\n",
      "Norm: 30.13, NNZs: 25, Bias: -22.000000, T: 17000, Avg. loss: 0.242093\n",
      "Total training time: 0.00 seconds.\n",
      "Convergence after 17 epochs took 0.00 seconds\n",
      "-- Epoch 1\n",
      "Norm: 14.16, NNZs: 25, Bias: -4.000000, T: 1000, Avg. loss: 0.240574\n",
      "Total training time: 0.00 seconds.\n",
      "-- Epoch 2\n",
      "Norm: 16.82, NNZs: 25, Bias: -5.000000, T: 2000, Avg. loss: 0.242432\n",
      "Total training time: 0.00 seconds.\n",
      "-- Epoch 3\n",
      "Norm: 20.20, NNZs: 25, Bias: -2.000000, T: 3000, Avg. loss: 0.255346\n",
      "Total training time: 0.00 seconds.\n",
      "-- Epoch 4\n",
      "Norm: 21.23, NNZs: 25, Bias: -4.000000, T: 4000, Avg. loss: 0.242304\n",
      "Total training time: 0.00 seconds.\n",
      "-- Epoch 5\n",
      "Norm: 21.88, NNZs: 25, Bias: -3.000000, T: 5000, Avg. loss: 0.249819\n",
      "Total training time: 0.00 seconds.\n",
      "-- Epoch 6\n",
      "Norm: 22.62, NNZs: 25, Bias: -3.000000, T: 6000, Avg. loss: 0.235748\n",
      "Total training time: 0.00 seconds.\n",
      "-- Epoch 7\n",
      "Norm: 23.87, NNZs: 25, Bias: -4.000000, T: 7000, Avg. loss: 0.217146\n",
      "Total training time: 0.00 seconds.\n",
      "-- Epoch 8\n",
      "Norm: 23.17, NNZs: 25, Bias: -5.000000, T: 8000, Avg. loss: 0.289536\n",
      "Total training time: 0.00 seconds.\n",
      "-- Epoch 9\n",
      "Norm: 23.54, NNZs: 25, Bias: -4.000000, T: 9000, Avg. loss: 0.220743\n",
      "Total training time: 0.00 seconds.\n",
      "-- Epoch 10\n",
      "Norm: 23.17, NNZs: 25, Bias: -5.000000, T: 10000, Avg. loss: 0.248308\n",
      "Total training time: 0.00 seconds.\n",
      "-- Epoch 11\n",
      "Norm: 23.54, NNZs: 25, Bias: -5.000000, T: 11000, Avg. loss: 0.249915\n",
      "Total training time: 0.00 seconds.\n",
      "-- Epoch 12\n",
      "Norm: 24.33, NNZs: 25, Bias: -5.000000, T: 12000, Avg. loss: 0.218145\n",
      "Total training time: 0.00 seconds.\n",
      "Convergence after 12 epochs took 0.00 seconds\n",
      "-- Epoch 1\n",
      "Norm: 15.60, NNZs: 25, Bias: -1.000000, T: 1000, Avg. loss: 0.230923\n",
      "Total training time: 0.00 seconds.\n",
      "-- Epoch 2\n",
      "Norm: 19.96, NNZs: 25, Bias: -2.000000, T: 2000, Avg. loss: 0.173398\n",
      "Total training time: 0.00 seconds.\n",
      "-- Epoch 3\n",
      "Norm: 21.92, NNZs: 25, Bias: -2.000000, T: 3000, Avg. loss: 0.159572\n",
      "Total training time: 0.00 seconds.\n",
      "-- Epoch 4\n",
      "Norm: 24.99, NNZs: 25, Bias: -2.000000, T: 4000, Avg. loss: 0.168444\n",
      "Total training time: 0.00 seconds.\n",
      "-- Epoch 5\n",
      "Norm: 26.76, NNZs: 25, Bias: 0.000000, T: 5000, Avg. loss: 0.168680\n",
      "Total training time: 0.00 seconds.\n",
      "-- Epoch 6\n",
      "Norm: 27.87, NNZs: 25, Bias: 0.000000, T: 6000, Avg. loss: 0.141833\n",
      "Total training time: 0.00 seconds.\n",
      "-- Epoch 7\n",
      "Norm: 29.17, NNZs: 25, Bias: 0.000000, T: 7000, Avg. loss: 0.144489\n",
      "Total training time: 0.00 seconds.\n",
      "-- Epoch 8\n",
      "Norm: 29.65, NNZs: 25, Bias: -1.000000, T: 8000, Avg. loss: 0.142573\n",
      "Total training time: 0.00 seconds.\n",
      "-- Epoch 9\n",
      "Norm: 30.44, NNZs: 25, Bias: 1.000000, T: 9000, Avg. loss: 0.144593\n",
      "Total training time: 0.00 seconds.\n",
      "-- Epoch 10\n",
      "Norm: 31.23, NNZs: 25, Bias: 0.000000, T: 10000, Avg. loss: 0.151979\n",
      "Total training time: 0.00 seconds.\n",
      "-- Epoch 11\n",
      "Norm: 33.31, NNZs: 25, Bias: -1.000000, T: 11000, Avg. loss: 0.168453\n",
      "Total training time: 0.00 seconds.\n",
      "Convergence after 11 epochs took 0.00 seconds\n",
      "-- Epoch 1\n",
      "Norm: 16.25, NNZs: 25, Bias: -2.000000, T: 1000, Avg. loss: 0.142583\n",
      "Total training time: 0.00 seconds.\n",
      "-- Epoch 2\n",
      "Norm: 19.12, NNZs: 25, Bias: -2.000000, T: 2000, Avg. loss: 0.062625\n",
      "Total training time: 0.00 seconds.\n",
      "-- Epoch 3\n",
      "Norm: 22.05, NNZs: 25, Bias: -4.000000, T: 3000, Avg. loss: 0.073966\n",
      "Total training time: 0.00 seconds.\n",
      "-- Epoch 4\n",
      "Norm: 23.45, NNZs: 25, Bias: -5.000000, T: 4000, Avg. loss: 0.088430\n",
      "Total training time: 0.00 seconds.\n",
      "-- Epoch 5\n",
      "Norm: 23.11, NNZs: 25, Bias: -5.000000, T: 5000, Avg. loss: 0.059593\n",
      "Total training time: 0.00 seconds.\n",
      "-- Epoch 6\n",
      "Norm: 24.30, NNZs: 25, Bias: -4.000000, T: 6000, Avg. loss: 0.075826\n",
      "Total training time: 0.00 seconds.\n",
      "-- Epoch 7\n",
      "Norm: 25.27, NNZs: 25, Bias: -6.000000, T: 7000, Avg. loss: 0.077850\n",
      "Total training time: 0.00 seconds.\n",
      "-- Epoch 8\n",
      "Norm: 26.47, NNZs: 25, Bias: -6.000000, T: 8000, Avg. loss: 0.070962\n",
      "Total training time: 0.00 seconds.\n",
      "-- Epoch 9\n",
      "Norm: 27.14, NNZs: 25, Bias: -6.000000, T: 9000, Avg. loss: 0.079145\n",
      "Total training time: 0.00 seconds.\n",
      "-- Epoch 10\n",
      "Norm: 27.49, NNZs: 25, Bias: -6.000000, T: 10000, Avg. loss: 0.045402\n",
      "Total training time: 0.00 seconds.\n",
      "-- Epoch 11\n",
      "Norm: 28.46, NNZs: 25, Bias: -6.000000, T: 11000, Avg. loss: 0.064880\n",
      "Total training time: 0.00 seconds.\n",
      "-- Epoch 12\n",
      "Norm: 29.41, NNZs: 25, Bias: -6.000000, T: 12000, Avg. loss: 0.082495\n",
      "Total training time: 0.00 seconds.\n",
      "-- Epoch 13\n",
      "Norm: 29.98, NNZs: 25, Bias: -5.000000, T: 13000, Avg. loss: 0.062919\n",
      "Total training time: 0.00 seconds.\n",
      "-- Epoch 14\n",
      "Norm: 29.96, NNZs: 25, Bias: -5.000000, T: 14000, Avg. loss: 0.073385\n",
      "Total training time: 0.00 seconds.\n",
      "-- Epoch 15\n",
      "Norm: 30.74, NNZs: 25, Bias: -5.000000, T: 15000, Avg. loss: 0.069366\n",
      "Total training time: 0.00 seconds.\n",
      "Convergence after 15 epochs took 0.00 seconds\n",
      "-- Epoch 1\n",
      "Norm: 16.22, NNZs: 25, Bias: 0.000000, T: 1000, Avg. loss: 0.221050\n",
      "Total training time: 0.00 seconds.\n",
      "-- Epoch 2\n",
      "Norm: 20.21, NNZs: 25, Bias: -1.000000, T: 2000, Avg. loss: 0.240721\n",
      "Total training time: 0.00 seconds.\n",
      "-- Epoch 3\n",
      "Norm: 20.19, NNZs: 25, Bias: -2.000000, T: 3000, Avg. loss: 0.226139\n",
      "Total training time: 0.00 seconds.\n",
      "-- Epoch 4\n",
      "Norm: 19.35, NNZs: 25, Bias: 1.000000, T: 4000, Avg. loss: 0.215972\n",
      "Total training time: 0.00 seconds.\n",
      "-- Epoch 5\n",
      "Norm: 20.08, NNZs: 25, Bias: 0.000000, T: 5000, Avg. loss: 0.193508\n",
      "Total training time: 0.00 seconds.\n",
      "-- Epoch 6\n",
      "Norm: 20.87, NNZs: 25, Bias: 1.000000, T: 6000, Avg. loss: 0.219948\n",
      "Total training time: 0.00 seconds.\n",
      "-- Epoch 7\n",
      "Norm: 22.29, NNZs: 25, Bias: 0.000000, T: 7000, Avg. loss: 0.242012\n",
      "Total training time: 0.00 seconds.\n",
      "-- Epoch 8\n",
      "Norm: 23.08, NNZs: 25, Bias: -1.000000, T: 8000, Avg. loss: 0.248491\n",
      "Total training time: 0.00 seconds.\n",
      "-- Epoch 9\n",
      "Norm: 22.05, NNZs: 25, Bias: 0.000000, T: 9000, Avg. loss: 0.223099\n",
      "Total training time: 0.00 seconds.\n",
      "-- Epoch 10\n",
      "Norm: 23.63, NNZs: 25, Bias: 2.000000, T: 10000, Avg. loss: 0.236941\n",
      "Total training time: 0.00 seconds.\n",
      "Convergence after 10 epochs took 0.00 seconds\n",
      "-- Epoch 1\n",
      "Norm: 15.42, NNZs: 25, Bias: -1.000000, T: 1000, Avg. loss: 0.140358\n",
      "Total training time: 0.00 seconds.\n",
      "-- Epoch 2\n",
      "Norm: 18.94, NNZs: 25, Bias: -2.000000, T: 2000, Avg. loss: 0.073266\n",
      "Total training time: 0.00 seconds.\n",
      "-- Epoch 3\n",
      "Norm: 21.68, NNZs: 25, Bias: -1.000000, T: 3000, Avg. loss: 0.085424\n",
      "Total training time: 0.00 seconds.\n",
      "-- Epoch 4\n",
      "Norm: 22.84, NNZs: 25, Bias: -3.000000, T: 4000, Avg. loss: 0.080398\n",
      "Total training time: 0.00 seconds.\n",
      "-- Epoch 5\n",
      "Norm: 23.83, NNZs: 25, Bias: -2.000000, T: 5000, Avg. loss: 0.089523\n",
      "Total training time: 0.00 seconds.\n",
      "-- Epoch 6\n",
      "Norm: 24.14, NNZs: 25, Bias: -3.000000, T: 6000, Avg. loss: 0.064719\n",
      "Total training time: 0.00 seconds.\n",
      "-- Epoch 7\n",
      "Norm: 25.89, NNZs: 25, Bias: -3.000000, T: 7000, Avg. loss: 0.067389\n",
      "Total training time: 0.00 seconds.\n",
      "-- Epoch 8\n",
      "Norm: 26.45, NNZs: 25, Bias: -3.000000, T: 8000, Avg. loss: 0.070457\n",
      "Total training time: 0.00 seconds.\n",
      "-- Epoch 9\n",
      "Norm: 27.66, NNZs: 25, Bias: -2.000000, T: 9000, Avg. loss: 0.068235\n",
      "Total training time: 0.00 seconds.\n",
      "-- Epoch 10\n",
      "Norm: 28.70, NNZs: 25, Bias: -3.000000, T: 10000, Avg. loss: 0.090478\n",
      "Total training time: 0.00 seconds.\n",
      "-- Epoch 11\n",
      "Norm: 29.65, NNZs: 25, Bias: -2.000000, T: 11000, Avg. loss: 0.061383\n",
      "Total training time: 0.00 seconds.\n",
      "-- Epoch 12\n",
      "Norm: 30.51, NNZs: 25, Bias: -3.000000, T: 12000, Avg. loss: 0.069248\n",
      "Total training time: 0.00 seconds.\n",
      "-- Epoch 13\n",
      "Norm: 31.12, NNZs: 25, Bias: -2.000000, T: 13000, Avg. loss: 0.053817\n",
      "Total training time: 0.00 seconds.\n",
      "-- Epoch 14\n",
      "Norm: 31.70, NNZs: 25, Bias: -1.000000, T: 14000, Avg. loss: 0.075522\n",
      "Total training time: 0.00 seconds.\n",
      "-- Epoch 15\n",
      "Norm: 32.40, NNZs: 25, Bias: -3.000000, T: 15000, Avg. loss: 0.071425\n",
      "Total training time: 0.00 seconds.\n",
      "-- Epoch 16\n",
      "Norm: 32.54, NNZs: 25, Bias: -3.000000, T: 16000, Avg. loss: 0.072765\n",
      "Total training time: 0.00 seconds.\n",
      "-- Epoch 17\n",
      "Norm: 33.35, NNZs: 25, Bias: -3.000000, T: 17000, Avg. loss: 0.067064\n",
      "Total training time: 0.00 seconds.\n",
      "-- Epoch 18\n",
      "Norm: 33.83, NNZs: 25, Bias: 0.000000, T: 18000, Avg. loss: 0.061429\n",
      "Total training time: 0.00 seconds.\n",
      "Convergence after 18 epochs took 0.00 seconds\n",
      "-- Epoch 1\n",
      "Norm: 14.66, NNZs: 25, Bias: -2.000000, T: 1000, Avg. loss: 0.097050\n",
      "Total training time: 0.00 seconds.\n",
      "-- Epoch 2\n",
      "Norm: 17.84, NNZs: 25, Bias: -3.000000, T: 2000, Avg. loss: 0.047798\n",
      "Total training time: 0.00 seconds.\n",
      "-- Epoch 3\n",
      "Norm: 19.54, NNZs: 25, Bias: -4.000000, T: 3000, Avg. loss: 0.023910\n",
      "Total training time: 0.00 seconds.\n",
      "-- Epoch 4\n",
      "Norm: 21.09, NNZs: 25, Bias: -4.000000, T: 4000, Avg. loss: 0.028246\n",
      "Total training time: 0.00 seconds.\n",
      "-- Epoch 5\n",
      "Norm: 21.98, NNZs: 25, Bias: -4.000000, T: 5000, Avg. loss: 0.022242\n",
      "Total training time: 0.00 seconds.\n",
      "-- Epoch 6\n",
      "Norm: 23.33, NNZs: 25, Bias: -4.000000, T: 6000, Avg. loss: 0.019882\n",
      "Total training time: 0.00 seconds.\n",
      "-- Epoch 7\n",
      "Norm: 23.92, NNZs: 25, Bias: -4.000000, T: 7000, Avg. loss: 0.014731\n",
      "Total training time: 0.00 seconds.\n",
      "-- Epoch 8\n",
      "Norm: 25.44, NNZs: 25, Bias: -4.000000, T: 8000, Avg. loss: 0.028196\n",
      "Total training time: 0.00 seconds.\n",
      "-- Epoch 9\n",
      "Norm: 26.35, NNZs: 25, Bias: -5.000000, T: 9000, Avg. loss: 0.022222\n",
      "Total training time: 0.00 seconds.\n",
      "-- Epoch 10\n",
      "Norm: 26.80, NNZs: 25, Bias: -4.000000, T: 10000, Avg. loss: 0.013146\n",
      "Total training time: 0.00 seconds.\n",
      "-- Epoch 11\n",
      "Norm: 27.39, NNZs: 25, Bias: -5.000000, T: 11000, Avg. loss: 0.014975\n",
      "Total training time: 0.00 seconds.\n",
      "-- Epoch 12\n",
      "Norm: 28.44, NNZs: 25, Bias: -5.000000, T: 12000, Avg. loss: 0.012908\n",
      "Total training time: 0.00 seconds.\n",
      "-- Epoch 13\n",
      "Norm: 29.33, NNZs: 25, Bias: -5.000000, T: 13000, Avg. loss: 0.023912\n",
      "Total training time: 0.00 seconds.\n",
      "-- Epoch 14\n",
      "Norm: 30.07, NNZs: 25, Bias: -5.000000, T: 14000, Avg. loss: 0.021926\n",
      "Total training time: 0.00 seconds.\n",
      "-- Epoch 15\n",
      "Norm: 31.52, NNZs: 25, Bias: -5.000000, T: 15000, Avg. loss: 0.020798\n",
      "Total training time: 0.00 seconds.\n",
      "Convergence after 15 epochs took 0.00 seconds\n",
      "-- Epoch 1\n",
      "Norm: 13.81, NNZs: 25, Bias: -4.000000, T: 1000, Avg. loss: 0.137218\n",
      "Total training time: 0.00 seconds.\n",
      "-- Epoch 2\n",
      "Norm: 15.80, NNZs: 25, Bias: -7.000000, T: 2000, Avg. loss: 0.108553\n",
      "Total training time: 0.00 seconds.\n",
      "-- Epoch 3\n",
      "Norm: 17.34, NNZs: 25, Bias: -7.000000, T: 3000, Avg. loss: 0.112055\n",
      "Total training time: 0.00 seconds.\n",
      "-- Epoch 4\n",
      "Norm: 20.09, NNZs: 25, Bias: -8.000000, T: 4000, Avg. loss: 0.094138\n",
      "Total training time: 0.00 seconds.\n",
      "-- Epoch 5\n",
      "Norm: 19.72, NNZs: 25, Bias: -10.000000, T: 5000, Avg. loss: 0.130176\n",
      "Total training time: 0.00 seconds.\n",
      "-- Epoch 6\n",
      "Norm: 20.88, NNZs: 25, Bias: -10.000000, T: 6000, Avg. loss: 0.086378\n",
      "Total training time: 0.00 seconds.\n",
      "-- Epoch 7\n",
      "Norm: 21.69, NNZs: 25, Bias: -10.000000, T: 7000, Avg. loss: 0.090178\n",
      "Total training time: 0.00 seconds.\n",
      "-- Epoch 8\n",
      "Norm: 21.76, NNZs: 25, Bias: -10.000000, T: 8000, Avg. loss: 0.091135\n",
      "Total training time: 0.00 seconds.\n",
      "-- Epoch 9\n",
      "Norm: 20.69, NNZs: 25, Bias: -11.000000, T: 9000, Avg. loss: 0.099247\n",
      "Total training time: 0.00 seconds.\n",
      "-- Epoch 10\n",
      "Norm: 22.11, NNZs: 25, Bias: -12.000000, T: 10000, Avg. loss: 0.108939\n",
      "Total training time: 0.00 seconds.\n",
      "-- Epoch 11\n",
      "Norm: 22.34, NNZs: 25, Bias: -13.000000, T: 11000, Avg. loss: 0.096684\n",
      "Total training time: 0.00 seconds.\n",
      "Convergence after 11 epochs took 0.00 seconds\n"
     ]
    },
    {
     "name": "stderr",
     "output_type": "stream",
     "text": [
      "[Parallel(n_jobs=1)]: Using backend SequentialBackend with 1 concurrent workers.\n",
      "[Parallel(n_jobs=1)]: Done  10 out of  10 | elapsed:    0.0s finished\n"
     ]
    },
    {
     "data": {
      "text/plain": [
       "Perceptron(alpha=0.0001, class_weight=None, early_stopping=False, eta0=1.0,\n",
       "           fit_intercept=True, max_iter=1000, n_iter_no_change=5, n_jobs=None,\n",
       "           penalty=None, random_state=0, shuffle=True, tol=0.001,\n",
       "           validation_fraction=0.1, verbose=1, warm_start=False)"
      ]
     },
     "execution_count": 7,
     "metadata": {},
     "output_type": "execute_result"
    }
   ],
   "source": [
    "perceptron.fit(x_train, y_train)"
   ]
  },
  {
   "cell_type": "code",
   "execution_count": 8,
   "metadata": {},
   "outputs": [
    {
     "data": {
      "text/plain": [
       "array([[-13.48235255,   5.286275  ,   4.01960781,   2.18039282,\n",
       "         -2.79215645,   2.72156896,  -1.69411778,   3.16470563,\n",
       "         -1.91764713,   9.66666704,   8.37647077,   8.49803941,\n",
       "         -5.73333317,   0.35686272,   6.93725457,   5.69411786,\n",
       "          6.93725494,  -0.8588235 ,   6.11372569,   0.89411779,\n",
       "         -2.54117596,   3.16470591,   0.30588257,   1.4313733 ,\n",
       "         -6.26274475],\n",
       "       [  4.81568592,   4.8274505 ,   0.34117621,   3.37647019,\n",
       "         -5.88627466,  -3.79607848,  -1.38823505,   3.60784295,\n",
       "         -2.15686286,   0.1921569 ,  -9.32941151,  -1.96862723,\n",
       "          6.96078381,   5.09019665,   2.01568644,  -3.65098011,\n",
       "          4.26666688,   8.05882389,   2.48627457,   0.50588292,\n",
       "         -0.73333346,   1.5450982 ,  -3.70588255,   2.94117606,\n",
       "          6.06274524],\n",
       "       [  5.82745068,  -0.62352893,  -9.90588263,   6.31764848,\n",
       "         15.84705824,  -0.57647111,   3.77647041,   1.85490199,\n",
       "          1.33725629,  -0.18823527,  -8.10196086,   2.49019541,\n",
       "          4.50196052, -11.01568659, -13.30588241,   5.94509796,\n",
       "         -1.92548933,  -1.3803929 ,   0.69411743,  -2.35294125,\n",
       "         -1.81568607,   1.2039212 ,  -0.70588253,   0.64313772,\n",
       "          4.60392122],\n",
       "       [  4.38823564,  -8.99215694,   8.84705974,  -6.80784365,\n",
       "          7.33333365,   0.75686268,   0.6117648 ,  -1.7490194 ,\n",
       "         -1.29803898,   4.45882406,  -4.88235312,  -2.6274512 ,\n",
       "         -1.2588239 ,  -5.66274522,  -6.65490207,  -0.46666681,\n",
       "         -2.75294127,  -2.56078414,  -7.40784338,  -5.7882353 ,\n",
       "         -3.72156867,  -1.90588257,  -0.8941177 ,  -3.49019623,\n",
       "         -6.79215688],\n",
       "       [ -9.87450974,  -2.58039188,  -0.5333334 ,   9.23921552,\n",
       "         -8.21176402,  -1.12156841,   1.26274458,   3.98431373,\n",
       "         -3.7529415 ,  -4.56470657,  -0.55294107,   1.03921633,\n",
       "         -4.80392241,  -2.63921586,   0.98823547,  -2.33333375,\n",
       "         -2.26274505,  -5.41568626, -12.11372554, -22.0313727 ,\n",
       "         -4.63921568,  -1.58039223,  -1.34509814,   5.9019608 ,\n",
       "         -5.81176462],\n",
       "       [ -2.227451  ,  -6.16862779,  -7.03137246,  -5.34901956,\n",
       "        -10.40784346,  -5.68627461,  -3.38823549,  -4.3254902 ,\n",
       "         -1.85490194, -10.45882372,   0.07450941,  -8.43137273,\n",
       "         -3.02352983,  -4.59215683,  -0.0392158 ,   4.53725461,\n",
       "         -3.80392166,   8.50588258,  -2.78431382,  12.6313725 ,\n",
       "          3.05882329,   7.63137257,   8.94509811,   3.83921564,\n",
       "          1.30196087],\n",
       "       [  2.41568659,  10.09411793,  -0.45882371,  -3.45490203,\n",
       "         -1.9294115 ,  -1.51372588,  -4.2431371 ,  -3.17254915,\n",
       "          4.54901924,   2.84705913,  -0.63137277,  -1.11764723,\n",
       "          4.05098075,   0.70588267,   0.18823554, -11.35294123,\n",
       "         -4.04705905,  -1.60392148,  -3.63137221,  -3.80392159,\n",
       "          6.90980387,   1.28627449,  -5.04705875,  -5.52156883,\n",
       "         -8.7176474 ],\n",
       "       [ -2.58823542, -13.99215687, -12.81176496, -11.16470608,\n",
       "          3.64313761,  -3.34901923,  -1.76470568, -15.1019609 ,\n",
       "          0.9215687 ,  -0.70588229,   3.04705856,  -1.2000004 ,\n",
       "         -2.760784  ,   2.33725575,   6.38823533,  -6.77647056,\n",
       "         10.32156901,   7.5411768 ,   7.36470573,   4.10196051,\n",
       "         -2.99607859,   4.72549016,   0.25490195,  -0.94509772,\n",
       "         -4.38431375],\n",
       "       [ -9.81176461,  -2.96862763,  -1.40000013,  -1.44705885,\n",
       "         -9.23529401, -11.96078435,   3.21176466,   3.57647072,\n",
       "         -2.64313741,  -0.21960799,   2.61176468,   1.16862755,\n",
       "          3.52156892,   3.6549021 ,  -1.58431366,   5.73333345,\n",
       "         -1.23529398,  -6.29803923,  -3.20392147,   1.39607813,\n",
       "          4.03529422, -12.54509823, -16.40000004,  -7.34117655,\n",
       "          2.56470614],\n",
       "       [ -1.68235273,   2.1921572 ,   3.65882385,   2.28627447,\n",
       "         -5.8156863 ,   8.82352955,  -2.6039212 ,  -2.09803905,\n",
       "         -2.81568629,   3.07058811,   1.30588248,  -5.51764756,\n",
       "         -0.75686294,   1.6901959 ,   4.32941209,  -8.2       ,\n",
       "         -6.42745104,  -8.37647066,  -0.78039232,  -2.36470586,\n",
       "         -4.96078435,  -3.75294121,  -1.69803929,  -5.25882345,\n",
       "          4.90588281]])"
      ]
     },
     "execution_count": 8,
     "metadata": {},
     "output_type": "execute_result"
    }
   ],
   "source": [
    "perceptron.coef_"
   ]
  },
  {
   "cell_type": "code",
   "execution_count": 9,
   "metadata": {},
   "outputs": [
    {
     "data": {
      "text/plain": [
       "array([-39., -29., -22.,  -5.,  -1.,  -5.,   2.,   0.,  -5., -13.])"
      ]
     },
     "execution_count": 9,
     "metadata": {},
     "output_type": "execute_result"
    }
   ],
   "source": [
    "perceptron.intercept_"
   ]
  },
  {
   "cell_type": "markdown",
   "metadata": {},
   "source": [
    "<div style=\"direction:ltr;text-align:left;font-family: Tahoma\">\n",
    "Evaluating the classifier:\n",
    "</div>"
   ]
  },
  {
   "cell_type": "code",
   "execution_count": 10,
   "metadata": {},
   "outputs": [
    {
     "name": "stdout",
     "output_type": "stream",
     "text": [
      "Accuracy is 84.50 %\n"
     ]
    }
   ],
   "source": [
    "accuracy = perceptron.score(x_test, y_test)\n",
    "print(\"Accuracy is %.2f %%\" %(accuracy * 100))"
   ]
  },
  {
   "cell_type": "markdown",
   "metadata": {},
   "source": [
    "<div style=\"direction:ltr;text-align:left;font-family: Tahoma\">\n",
    "Predicting with the classifier:\n",
    "</div>"
   ]
  },
  {
   "cell_type": "code",
   "execution_count": 11,
   "metadata": {},
   "outputs": [
    {
     "name": "stdout",
     "output_type": "stream",
     "text": [
      "The actual label is '0' and the prediction is '0'\n"
     ]
    }
   ],
   "source": [
    "sample = 20\n",
    "\n",
    "X = [x_test[sample]]\n",
    "\n",
    "predicted_class = perceptron.predict(X)\n",
    "actual_class = y_test[sample]\n",
    "\n",
    "print (\"The actual label is '{}' and the prediction is '{}'\".format(actual_class, predicted_class[0]))"
   ]
  },
  {
   "cell_type": "code",
   "execution_count": 12,
   "metadata": {},
   "outputs": [
    {
     "name": "stdout",
     "output_type": "stream",
     "text": [
      "Predicted classes:\n",
      "[7 2 7 5 5 5 4 7 3 2 0 8 6 0 7 9 3 6 7 4 0 3 6 3 1 2 7 5 2 6 7 5 5 8 9 6 5\n",
      " 1 4 8 8 7 7 7 1 2 7 9 0 3 7 5 7 5 7 8 8 2 9 8 8 6 6 6 7 6 2 4 2 4 4 5 9 1\n",
      " 8 2 0 5 6 2 4 6 2 7 7 7 7 1 8 1 7 8 7 7 8 9 7 2 3 1 0 2 9 7 3 5 5 0 0 9 7\n",
      " 7 9 3 9 6 8 7 9 2 5 2 5 5 9 6 9 2 7 3 7 6 5 7 9 0 3 1 8 2 2 3 7 2 9 6 8 2\n",
      " 7 0 9 6 0 7 6 5 4 7 6 3 7 0 7 6 9 4 7 3 4 1 5 6 7 9 1 3 5 3 5 7 4 1 3 3 1\n",
      " 1 3 3 8 9 6 7 7 6 3 0 1 7 9 5]\n",
      "Actual classes:\n",
      "[7 2 3 1 5 5 4 7 3 2 0 8 8 0 2 9 3 6 7 4 0 3 6 3 9 2 7 5 2 9 7 5 5 8 9 6 5\n",
      " 1 4 8 8 4 7 7 1 2 7 9 0 3 7 4 7 5 2 9 8 2 9 8 8 6 6 6 6 6 2 4 3 4 4 5 9 1\n",
      " 8 2 0 5 6 2 4 3 2 7 7 7 7 1 8 1 7 8 7 7 8 9 3 2 3 1 0 2 9 6 3 5 5 0 0 3 6\n",
      " 7 9 3 9 9 8 7 9 2 5 2 5 5 9 6 9 2 0 3 7 6 5 2 9 0 4 1 8 2 2 3 0 2 9 3 8 6\n",
      " 7 0 9 9 0 7 6 5 4 7 9 3 7 0 7 1 9 4 7 3 4 1 5 6 7 9 1 3 5 4 5 7 4 1 3 3 1\n",
      " 2 3 3 8 9 6 7 7 2 3 0 1 4 9 5]\n"
     ]
    }
   ],
   "source": [
    "pred_classes = perceptron.predict(x_test)\n",
    "true_classes = y_test\n",
    "\n",
    "print(\"Predicted classes:\")\n",
    "print(pred_classes)\n",
    "print(\"Actual classes:\")\n",
    "print(y_test)"
   ]
  },
  {
   "cell_type": "markdown",
   "metadata": {
    "collapsed": true
   },
   "source": [
    "<div class=\"alert\">\n",
    "<div style=\"direction:ltr;text-align:left;font-family:B Tahoma\"> Machine Learning Course\n",
    "<br>Vahid Reza Khazaie<br>\n",
    "</div>\n",
    "<a href=\"https://www.linkedin.com/in/vahidrezakhazaie/\">LinkedIn</a> - <a href=\"https://github.com/vrkh1996\">GitHub</a>\n",
    "\n",
    "</div>"
   ]
  }
 ],
 "metadata": {
  "anaconda-cloud": {},
  "kernelspec": {
   "display_name": "Python 3",
   "language": "python",
   "name": "python3"
  },
  "language_info": {
   "codemirror_mode": {
    "name": "ipython",
    "version": 3
   },
   "file_extension": ".py",
   "mimetype": "text/x-python",
   "name": "python",
   "nbconvert_exporter": "python",
   "pygments_lexer": "ipython3",
   "version": "3.6.5"
  },
  "nbpresent": {
   "slides": {
    "300ee14f-a043-486e-b274-7ff253907cd7": {
     "id": "300ee14f-a043-486e-b274-7ff253907cd7",
     "prev": "cb74e0bc-4513-4d13-b7f1-14c3078a7927",
     "regions": {
      "26dc3f39-a230-447c-af4c-f5e5b2fb7835": {
       "attrs": {
        "height": 0.8,
        "width": 0.8,
        "x": 0.1,
        "y": 0.1
       },
       "content": {
        "cell": "c58440a5-3f8f-4f37-9c79-6bf766209406",
        "part": "whole"
       },
       "id": "26dc3f39-a230-447c-af4c-f5e5b2fb7835"
      }
     }
    },
    "878aa53a-1444-4100-8f50-7a408191c579": {
     "id": "878aa53a-1444-4100-8f50-7a408191c579",
     "prev": null,
     "regions": {
      "a6c6843a-5ea6-4fbc-b890-3b4b8ae475b3": {
       "attrs": {
        "height": 0.8,
        "width": 0.8,
        "x": 0.1,
        "y": 0.1
       },
       "content": {
        "cell": "588ee1fa-64b5-453b-ade7-8e6b2515821c",
        "part": "whole"
       },
       "id": "a6c6843a-5ea6-4fbc-b890-3b4b8ae475b3"
      }
     }
    },
    "92e1449b-15f5-40ac-89eb-9496a06af0b0": {
     "id": "92e1449b-15f5-40ac-89eb-9496a06af0b0",
     "prev": "300ee14f-a043-486e-b274-7ff253907cd7",
     "regions": {
      "ea2d28ea-4686-4b1c-832c-836c35a7524e": {
       "attrs": {
        "height": 1,
        "width": 1,
        "x": 0,
        "y": 0
       },
       "id": "ea2d28ea-4686-4b1c-832c-836c35a7524e"
      }
     }
    },
    "96ffe88e-7b50-43de-afdd-942e564f4e3e": {
     "id": "96ffe88e-7b50-43de-afdd-942e564f4e3e",
     "prev": "878aa53a-1444-4100-8f50-7a408191c579",
     "regions": {
      "b7e52e12-489a-468d-b10c-af2024fd2856": {
       "attrs": {
        "height": 0.8,
        "width": 0.8,
        "x": 0.1,
        "y": 0.1
       },
       "content": {
        "cell": "de829a92-1fb6-44ad-a2c6-fc1001e1f6e1",
        "part": "whole"
       },
       "id": "b7e52e12-489a-468d-b10c-af2024fd2856"
      }
     }
    },
    "cb74e0bc-4513-4d13-b7f1-14c3078a7927": {
     "id": "cb74e0bc-4513-4d13-b7f1-14c3078a7927",
     "prev": "96ffe88e-7b50-43de-afdd-942e564f4e3e",
     "regions": {
      "444878ee-68f3-4abb-acff-a7079b21e86d": {
       "attrs": {
        "height": 0.8,
        "width": 0.8,
        "x": 0.1,
        "y": 0.1
       },
       "content": {
        "cell": "25f3f538-1ee8-4d98-a6bb-14cbeb7a702d",
        "part": "whole"
       },
       "id": "444878ee-68f3-4abb-acff-a7079b21e86d"
      }
     }
    }
   },
   "themes": {}
  }
 },
 "nbformat": 4,
 "nbformat_minor": 1
}
