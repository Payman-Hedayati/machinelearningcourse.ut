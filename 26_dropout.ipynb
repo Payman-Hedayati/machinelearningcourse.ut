{
 "cells": [
  {
   "cell_type": "markdown",
   "metadata": {
    "collapsed": true
   },
   "source": [
    "<div class=\"alert\">\n",
    "<div style=\"direction:ltr;text-align:center;font-family: B Tahoma; font-size:24pt\"> Practical Deep Learning Course for Computer Vision\n",
    "</div>\n",
    "</div>"
   ]
  },
  {
   "cell_type": "markdown",
   "metadata": {
    "collapsed": true
   },
   "source": [
    "<div class=\"alert\">\n",
    "<div style=\"direction:ltr;text-align:left;font-family:Tahoma; font-size:16pt\"> Overfitting\n",
    "</div>\n",
    "</div>"
   ]
  },
  {
   "cell_type": "markdown",
   "metadata": {},
   "source": [
    "<img src=\"./images/overfitting.png\" alt=\"Overfitting\">\n",
    "<a href=\"https://miro.medium.com/max/2400/1*UCd6KrmBxpzUpWt3bnoKEA.png\">Reference</a>"
   ]
  },
  {
   "cell_type": "markdown",
   "metadata": {},
   "source": [
    "<div style=\"direction:ltr;text-align:left;font-family: Tahoma\">\n",
    "In order to install required libraries, execute cell below.\n",
    "</div>"
   ]
  },
  {
   "cell_type": "code",
   "execution_count": null,
   "metadata": {},
   "outputs": [],
   "source": [
    "!pip install numpy\n",
    "!pip install scipy\n",
    "!pip install matplotlib\n",
    "!pip install opencv-python\n",
    "!pip install scikit-learn\n",
    "!pip install tensorflow\n",
    "!pip install pillow\n",
    "!pip install h5py\n",
    "!pip install keras"
   ]
  },
  {
   "cell_type": "markdown",
   "metadata": {},
   "source": [
    "<div style=\"direction:ltr;text-align:left;font-family: Tahoma\">\n",
    "Import the required libraries.<br>\n",
    "</div>"
   ]
  },
  {
   "cell_type": "code",
   "execution_count": 1,
   "metadata": {
    "nbpresent": {
     "id": "de829a92-1fb6-44ad-a2c6-fc1001e1f6e1"
    }
   },
   "outputs": [
    {
     "name": "stderr",
     "output_type": "stream",
     "text": [
      "C:\\Anaconda3\\lib\\site-packages\\h5py\\__init__.py:36: FutureWarning: Conversion of the second argument of issubdtype from `float` to `np.floating` is deprecated. In future, it will be treated as `np.float64 == np.dtype(float).type`.\n",
      "  from ._conv import register_converters as _register_converters\n",
      "Using TensorFlow backend.\n",
      "C:\\Anaconda3\\lib\\site-packages\\tensorflow\\python\\framework\\dtypes.py:523: FutureWarning: Passing (type, 1) or '1type' as a synonym of type is deprecated; in a future version of numpy, it will be understood as (type, (1,)) / '(1,)type'.\n",
      "  _np_qint8 = np.dtype([(\"qint8\", np.int8, 1)])\n",
      "C:\\Anaconda3\\lib\\site-packages\\tensorflow\\python\\framework\\dtypes.py:524: FutureWarning: Passing (type, 1) or '1type' as a synonym of type is deprecated; in a future version of numpy, it will be understood as (type, (1,)) / '(1,)type'.\n",
      "  _np_quint8 = np.dtype([(\"quint8\", np.uint8, 1)])\n",
      "C:\\Anaconda3\\lib\\site-packages\\tensorflow\\python\\framework\\dtypes.py:525: FutureWarning: Passing (type, 1) or '1type' as a synonym of type is deprecated; in a future version of numpy, it will be understood as (type, (1,)) / '(1,)type'.\n",
      "  _np_qint16 = np.dtype([(\"qint16\", np.int16, 1)])\n",
      "C:\\Anaconda3\\lib\\site-packages\\tensorflow\\python\\framework\\dtypes.py:526: FutureWarning: Passing (type, 1) or '1type' as a synonym of type is deprecated; in a future version of numpy, it will be understood as (type, (1,)) / '(1,)type'.\n",
      "  _np_quint16 = np.dtype([(\"quint16\", np.uint16, 1)])\n",
      "C:\\Anaconda3\\lib\\site-packages\\tensorflow\\python\\framework\\dtypes.py:527: FutureWarning: Passing (type, 1) or '1type' as a synonym of type is deprecated; in a future version of numpy, it will be understood as (type, (1,)) / '(1,)type'.\n",
      "  _np_qint32 = np.dtype([(\"qint32\", np.int32, 1)])\n",
      "C:\\Anaconda3\\lib\\site-packages\\tensorflow\\python\\framework\\dtypes.py:532: FutureWarning: Passing (type, 1) or '1type' as a synonym of type is deprecated; in a future version of numpy, it will be understood as (type, (1,)) / '(1,)type'.\n",
      "  np_resource = np.dtype([(\"resource\", np.ubyte, 1)])\n"
     ]
    }
   ],
   "source": [
    "import cv2\n",
    "import numpy as np\n",
    "import matplotlib.pyplot as plt\n",
    "from scipy import io\n",
    "import keras"
   ]
  },
  {
   "cell_type": "markdown",
   "metadata": {},
   "source": [
    "<div style=\"direction:ltr;text-align:left;font-family: Tahoma\">\n",
    "Setting seed for reproducibility:\n",
    "</div>"
   ]
  },
  {
   "cell_type": "code",
   "execution_count": 2,
   "metadata": {},
   "outputs": [],
   "source": [
    "# Seed value\n",
    "seed_value= 123\n",
    "\n",
    "# 1. Set the PYTHONHASHSEED environment variable at a fixed value\n",
    "import os\n",
    "os.environ['PYTHONHASHSEED']=str(seed_value)\n",
    "\n",
    "# 2. Set the python built-in pseudo-random generator at a fixed value\n",
    "import random\n",
    "random.seed(seed_value)\n",
    "\n",
    "# 3. Set the numpy pseudo-random generator at a fixed value\n",
    "import numpy as np\n",
    "np.random.seed(seed_value)\n",
    "\n",
    "# 4. Set the tensorflow pseudo-random generator at a fixed value\n",
    "import tensorflow as tf\n",
    "tf.random.set_random_seed(seed_value)\n",
    "\n",
    "# 5. Configure a new global tensorflow session\n",
    "from keras import backend as K\n",
    "session_conf = tf.ConfigProto(intra_op_parallelism_threads=1, inter_op_parallelism_threads=1)\n",
    "sess = tf.Session(graph=tf.get_default_graph(), config=session_conf)\n",
    "K.set_session(sess)"
   ]
  },
  {
   "cell_type": "markdown",
   "metadata": {},
   "source": [
    "<div style=\"direction:ltr;text-align:left;font-family: Tahoma\">\n",
    "The function to load the preprocessed dataset:<br>\n",
    "</div>"
   ]
  },
  {
   "cell_type": "code",
   "execution_count": 3,
   "metadata": {},
   "outputs": [],
   "source": [
    "def load_hoda(dataset_dir, training_sample_size=1000, test_sample_size=200, size=5):\n",
    "    # Load the dataset\n",
    "    trs = training_sample_size\n",
    "    tes = test_sample_size\n",
    "    dataset = io.loadmat(dataset_dir)\n",
    "\n",
    "    # Split training and test set\n",
    "    X_train_orginal = np.squeeze(dataset['Data'][:trs])\n",
    "    y_train = np.squeeze(dataset['labels'][:trs])\n",
    "    X_test_original = np.squeeze(dataset['Data'][trs:trs+tes])\n",
    "    y_test = np.squeeze(dataset['labels'][trs:trs+tes])\n",
    "\n",
    "    # Resize the dataset\n",
    "    X_train_5by5 = [cv2.resize(img, dsize=(size, size)) for img in X_train_orginal]\n",
    "    X_test_5by_5 = [cv2.resize(img, dsize=(size, size)) for img in X_test_original]\n",
    "    \n",
    "    # Reshape the dataset\n",
    "    X_train = [x.reshape(size*size) for x in X_train_5by5]\n",
    "    X_test = [x.reshape(size*size) for x in X_test_5by_5]\n",
    "    \n",
    "    return X_train, y_train, X_test, y_test"
   ]
  },
  {
   "cell_type": "markdown",
   "metadata": {},
   "source": [
    "<div style=\"direction:ltr;text-align:left;font-family: Tahoma\">\n",
    "Loading and preprocessing the dataset:\n",
    "</div>"
   ]
  },
  {
   "cell_type": "code",
   "execution_count": 4,
   "metadata": {},
   "outputs": [],
   "source": [
    "# Load the dataset\n",
    "X_train, Y_train, X_test, Y_test = load_hoda(dataset_dir='./dataset/hoda.mat')"
   ]
  },
  {
   "cell_type": "code",
   "execution_count": 5,
   "metadata": {},
   "outputs": [],
   "source": [
    "# Preprocess input data for Keras\n",
    "x_train = np.array(X_train)\n",
    "y_train = keras.utils.to_categorical(Y_train, num_classes=10)\n",
    "\n",
    "x_test = np.array(X_test)\n",
    "y_test = keras.utils.to_categorical(Y_test, num_classes=10)"
   ]
  },
  {
   "cell_type": "markdown",
   "metadata": {},
   "source": [
    "<div style=\"direction:ltr;text-align:left;font-family: Tahoma\">\n",
    "Normalize the dataset between 0 and 1:\n",
    "</div>"
   ]
  },
  {
   "cell_type": "code",
   "execution_count": 6,
   "metadata": {},
   "outputs": [],
   "source": [
    "x_train = x_train.astype('float32')\n",
    "x_test = x_test.astype('float32')\n",
    "\n",
    "x_train /= 255\n",
    "x_test /= 255"
   ]
  },
  {
   "cell_type": "markdown",
   "metadata": {},
   "source": [
    "<div style=\"direction:ltr;text-align:left;font-family: Tahoma\">\n",
    "Defining the model architecture:\n",
    "</div>"
   ]
  },
  {
   "cell_type": "code",
   "execution_count": 7,
   "metadata": {},
   "outputs": [],
   "source": [
    "from keras.models import Sequential\n",
    "from keras.layers import Dense\n",
    "\n",
    "# A deeper model\n",
    "model = Sequential()\n",
    "model.add(Dense(256, activation='relu', input_dim=25))\n",
    "model.add(Dense(512, activation='relu'))\n",
    "model.add(Dense(10, activation='softmax'))"
   ]
  },
  {
   "cell_type": "markdown",
   "metadata": {},
   "source": [
    "<div style=\"direction:ltr;text-align:left;font-family: Tahoma\">\n",
    "Looking at the model architecture:\n",
    "</div>"
   ]
  },
  {
   "cell_type": "code",
   "execution_count": 8,
   "metadata": {},
   "outputs": [
    {
     "name": "stdout",
     "output_type": "stream",
     "text": [
      "_________________________________________________________________\n",
      "Layer (type)                 Output Shape              Param #   \n",
      "=================================================================\n",
      "dense_1 (Dense)              (None, 256)               6656      \n",
      "_________________________________________________________________\n",
      "dense_2 (Dense)              (None, 512)               131584    \n",
      "_________________________________________________________________\n",
      "dense_3 (Dense)              (None, 10)                5130      \n",
      "=================================================================\n",
      "Total params: 143,370\n",
      "Trainable params: 143,370\n",
      "Non-trainable params: 0\n",
      "_________________________________________________________________\n"
     ]
    }
   ],
   "source": [
    "model.summary()"
   ]
  },
  {
   "cell_type": "markdown",
   "metadata": {},
   "source": [
    "<div style=\"direction:ltr;text-align:left;font-family: Tahoma\">\n",
    "Compiling the model:\n",
    "</div>"
   ]
  },
  {
   "cell_type": "code",
   "execution_count": 9,
   "metadata": {},
   "outputs": [],
   "source": [
    "model.compile(loss='categorical_crossentropy',\n",
    "              optimizer='adam',\n",
    "              metrics=['accuracy'])"
   ]
  },
  {
   "cell_type": "markdown",
   "metadata": {},
   "source": [
    "<div style=\"direction:ltr;text-align:left;font-family: Tahoma\">\n",
    "Fitting the classifier:\n",
    "</div>"
   ]
  },
  {
   "cell_type": "code",
   "execution_count": 10,
   "metadata": {
    "scrolled": false
   },
   "outputs": [
    {
     "name": "stdout",
     "output_type": "stream",
     "text": [
      "Train on 800 samples, validate on 200 samples\n",
      "Epoch 1/30\n",
      "800/800 [==============================] - 1s 1ms/step - loss: 1.9006 - acc: 0.5538 - val_loss: 1.3793 - val_acc: 0.7250\n",
      "Epoch 2/30\n",
      "800/800 [==============================] - 0s 69us/step - loss: 1.0031 - acc: 0.7800 - val_loss: 0.7028 - val_acc: 0.8100\n",
      "Epoch 3/30\n",
      "800/800 [==============================] - 0s 69us/step - loss: 0.5474 - acc: 0.8475 - val_loss: 0.4949 - val_acc: 0.8350\n",
      "Epoch 4/30\n",
      "800/800 [==============================] - 0s 70us/step - loss: 0.3800 - acc: 0.8825 - val_loss: 0.4191 - val_acc: 0.8750\n",
      "Epoch 5/30\n",
      "800/800 [==============================] - 0s 69us/step - loss: 0.3088 - acc: 0.9025 - val_loss: 0.3817 - val_acc: 0.8800\n",
      "Epoch 6/30\n",
      "800/800 [==============================] - 0s 69us/step - loss: 0.2837 - acc: 0.9062 - val_loss: 0.3620 - val_acc: 0.8950\n",
      "Epoch 7/30\n",
      "800/800 [==============================] - 0s 66us/step - loss: 0.2437 - acc: 0.9175 - val_loss: 0.3303 - val_acc: 0.9000\n",
      "Epoch 8/30\n",
      "800/800 [==============================] - 0s 67us/step - loss: 0.2123 - acc: 0.9300 - val_loss: 0.3575 - val_acc: 0.8950\n",
      "Epoch 9/30\n",
      "800/800 [==============================] - 0s 64us/step - loss: 0.2009 - acc: 0.9337 - val_loss: 0.3269 - val_acc: 0.8950\n",
      "Epoch 10/30\n",
      "800/800 [==============================] - 0s 70us/step - loss: 0.1925 - acc: 0.9400 - val_loss: 0.3477 - val_acc: 0.8550\n",
      "Epoch 11/30\n",
      "800/800 [==============================] - 0s 74us/step - loss: 0.1832 - acc: 0.9413 - val_loss: 0.3101 - val_acc: 0.9000\n",
      "Epoch 12/30\n",
      "800/800 [==============================] - 0s 69us/step - loss: 0.1493 - acc: 0.9575 - val_loss: 0.3155 - val_acc: 0.9050\n",
      "Epoch 13/30\n",
      "800/800 [==============================] - 0s 66us/step - loss: 0.1435 - acc: 0.9600 - val_loss: 0.3072 - val_acc: 0.9000\n",
      "Epoch 14/30\n",
      "800/800 [==============================] - 0s 66us/step - loss: 0.1248 - acc: 0.9688 - val_loss: 0.3137 - val_acc: 0.8950\n",
      "Epoch 15/30\n",
      "800/800 [==============================] - 0s 66us/step - loss: 0.1200 - acc: 0.9713 - val_loss: 0.3184 - val_acc: 0.9100\n",
      "Epoch 16/30\n",
      "800/800 [==============================] - 0s 69us/step - loss: 0.1158 - acc: 0.9675 - val_loss: 0.3241 - val_acc: 0.9050\n",
      "Epoch 17/30\n",
      "800/800 [==============================] - 0s 65us/step - loss: 0.1070 - acc: 0.9713 - val_loss: 0.3214 - val_acc: 0.9000\n",
      "Epoch 18/30\n",
      "800/800 [==============================] - 0s 65us/step - loss: 0.0997 - acc: 0.9775 - val_loss: 0.3072 - val_acc: 0.9250\n",
      "Epoch 19/30\n",
      "800/800 [==============================] - 0s 65us/step - loss: 0.0906 - acc: 0.9788 - val_loss: 0.3315 - val_acc: 0.8900\n",
      "Epoch 20/30\n",
      "800/800 [==============================] - 0s 66us/step - loss: 0.0879 - acc: 0.9800 - val_loss: 0.3072 - val_acc: 0.9150\n",
      "Epoch 21/30\n",
      "800/800 [==============================] - 0s 66us/step - loss: 0.0773 - acc: 0.9862 - val_loss: 0.3079 - val_acc: 0.9100\n",
      "Epoch 22/30\n",
      "800/800 [==============================] - 0s 67us/step - loss: 0.0722 - acc: 0.9862 - val_loss: 0.3040 - val_acc: 0.9200\n",
      "Epoch 23/30\n",
      "800/800 [==============================] - 0s 67us/step - loss: 0.0740 - acc: 0.9800 - val_loss: 0.3503 - val_acc: 0.8900\n",
      "Epoch 24/30\n",
      "800/800 [==============================] - 0s 67us/step - loss: 0.0652 - acc: 0.9850 - val_loss: 0.3311 - val_acc: 0.9150\n",
      "Epoch 25/30\n",
      "800/800 [==============================] - 0s 66us/step - loss: 0.0615 - acc: 0.9875 - val_loss: 0.3091 - val_acc: 0.9150\n",
      "Epoch 26/30\n",
      "800/800 [==============================] - 0s 67us/step - loss: 0.0506 - acc: 0.9900 - val_loss: 0.3170 - val_acc: 0.9050\n",
      "Epoch 27/30\n",
      "800/800 [==============================] - 0s 66us/step - loss: 0.0497 - acc: 0.9888 - val_loss: 0.3345 - val_acc: 0.9200\n",
      "Epoch 28/30\n",
      "800/800 [==============================] - 0s 66us/step - loss: 0.0461 - acc: 0.9913 - val_loss: 0.3315 - val_acc: 0.9150\n",
      "Epoch 29/30\n",
      "800/800 [==============================] - 0s 69us/step - loss: 0.0462 - acc: 0.9913 - val_loss: 0.3232 - val_acc: 0.9050\n",
      "Epoch 30/30\n",
      "800/800 [==============================] - 0s 65us/step - loss: 0.0452 - acc: 0.9937 - val_loss: 0.3424 - val_acc: 0.9050\n"
     ]
    }
   ],
   "source": [
    "history = model.fit(x_train, y_train,\n",
    "          epochs=30,\n",
    "          batch_size=64, validation_split=0.2)"
   ]
  },
  {
   "cell_type": "markdown",
   "metadata": {},
   "source": [
    "<div style=\"direction:ltr;text-align:left;font-family: Tahoma\">\n",
    "Plotting the result:\n",
    "</div>"
   ]
  },
  {
   "cell_type": "code",
   "execution_count": 11,
   "metadata": {},
   "outputs": [
    {
     "data": {
      "image/png": "[encoded data removed]",
      "text/plain": [
       "<Figure size 432x288 with 1 Axes>"
      ]
     },
     "metadata": {},
     "output_type": "display_data"
    },
    {
     "data": {
      "image/png": "[encoded data removed]",
      "text/plain": [
       "<Figure size 432x288 with 1 Axes>"
      ]
     },
     "metadata": {},
     "output_type": "display_data"
    }
   ],
   "source": [
    "%matplotlib inline\n",
    "\n",
    "acc = history.history['acc']\n",
    "val_acc = history.history['val_acc']\n",
    "loss = history.history['loss']\n",
    "val_loss = history.history['val_loss']\n",
    "\n",
    "epochs = range(len(acc))\n",
    "\n",
    "plt.plot(epochs, acc, 'b', label='Training Accuracy')\n",
    "plt.plot(epochs, val_acc, 'r', label='Validation Accuracy')\n",
    "plt.title('Training and Validation Accuracy')\n",
    "plt.legend()\n",
    "\n",
    "plt.figure()\n",
    "\n",
    "plt.plot(epochs, loss, 'b', label='Training loss')\n",
    "plt.plot(epochs, val_loss, 'r', label='Validation loss')\n",
    "plt.title('Training and Validation loss')\n",
    "plt.legend()\n",
    "\n",
    "plt.show()"
   ]
  },
  {
   "cell_type": "markdown",
   "metadata": {},
   "source": [
    "<div style=\"direction:ltr;text-align:left;font-family: Tahoma\">\n",
    "Evaluating the classifier:\n",
    "</div>"
   ]
  },
  {
   "cell_type": "code",
   "execution_count": 12,
   "metadata": {},
   "outputs": [
    {
     "name": "stdout",
     "output_type": "stream",
     "text": [
      "1000/1000 [==============================] - 0s 43us/step\n",
      "Accuracy on the training set: 97.50%\n"
     ]
    }
   ],
   "source": [
    "loss, accuracy = model.evaluate(x_train, y_train)\n",
    "print('Accuracy on the training set: %.2f%%'%(accuracy * 100))"
   ]
  },
  {
   "cell_type": "code",
   "execution_count": 13,
   "metadata": {},
   "outputs": [
    {
     "name": "stdout",
     "output_type": "stream",
     "text": [
      "200/200 [==============================] - 0s 60us/step\n",
      "Accuracy on the test set: 94.00%\n"
     ]
    }
   ],
   "source": [
    "loss, accuracy = model.evaluate(x_test, y_test)\n",
    "print('Accuracy on the test set: %.2f%%'%(accuracy * 100))"
   ]
  },
  {
   "cell_type": "markdown",
   "metadata": {},
   "source": [
    "<div class=\"alert\">\n",
    "<div style=\"direction:ltr;text-align:left;font-family:Tahoma; font-size:16pt\"> Dropout\n",
    "</div>\n",
    "</div>"
   ]
  },
  {
   "cell_type": "markdown",
   "metadata": {},
   "source": [
    "<img src=\"./images/dropout.png\" alt=\"Dropout\">\n",
    "<a href=\"https://www.researchgate.net/profile/Amine_Ben_khalifa/publication/309206911/figure/fig3/AS:418379505651712@1476760855735/Dropout-neural-network-model-a-is-a-standard-neural-network-b-is-the-same-network.png\">Reference</a>"
   ]
  },
  {
   "cell_type": "markdown",
   "metadata": {},
   "source": [
    "<div style=\"direction:ltr;text-align:left;font-family: Tahoma\">\n",
    "Repeating the last procedures with <strong> Dropout</strong>:\n",
    "</div>"
   ]
  },
  {
   "cell_type": "code",
   "execution_count": 14,
   "metadata": {},
   "outputs": [],
   "source": [
    "from keras.models import Sequential\n",
    "from keras.layers import Dense\n",
    "from keras.layers import Dropout\n",
    "\n",
    "# A deeper model\n",
    "model = Sequential()\n",
    "model.add(Dense(256, activation='relu', input_dim=25))\n",
    "model.add(Dropout(0.5))\n",
    "model.add(Dense(512, activation='relu'))\n",
    "model.add(Dropout(0.75))\n",
    "model.add(Dense(10, activation='softmax'))"
   ]
  },
  {
   "cell_type": "code",
   "execution_count": 15,
   "metadata": {},
   "outputs": [],
   "source": [
    "model.compile(loss='categorical_crossentropy',\n",
    "              optimizer='adam',\n",
    "              metrics=['accuracy'])"
   ]
  },
  {
   "cell_type": "code",
   "execution_count": 16,
   "metadata": {},
   "outputs": [
    {
     "name": "stdout",
     "output_type": "stream",
     "text": [
      "Train on 800 samples, validate on 200 samples\n",
      "Epoch 1/30\n",
      "800/800 [==============================] - 0s 475us/step - loss: 2.2289 - acc: 0.1738 - val_loss: 1.9178 - val_acc: 0.7050\n",
      "Epoch 2/30\n",
      "800/800 [==============================] - 0s 74us/step - loss: 1.8612 - acc: 0.4437 - val_loss: 1.4986 - val_acc: 0.7400\n",
      "Epoch 3/30\n",
      "800/800 [==============================] - 0s 70us/step - loss: 1.4670 - acc: 0.5938 - val_loss: 1.0479 - val_acc: 0.7850\n",
      "Epoch 4/30\n",
      "800/800 [==============================] - 0s 71us/step - loss: 1.1204 - acc: 0.6863 - val_loss: 0.7340 - val_acc: 0.8300\n",
      "Epoch 5/30\n",
      "800/800 [==============================] - 0s 71us/step - loss: 0.9107 - acc: 0.7213 - val_loss: 0.5831 - val_acc: 0.8650\n",
      "Epoch 6/30\n",
      "800/800 [==============================] - 0s 72us/step - loss: 0.7913 - acc: 0.7587 - val_loss: 0.5031 - val_acc: 0.8700\n",
      "Epoch 7/30\n",
      "800/800 [==============================] - 0s 71us/step - loss: 0.6825 - acc: 0.7937 - val_loss: 0.4578 - val_acc: 0.8650\n",
      "Epoch 8/30\n",
      "800/800 [==============================] - 0s 71us/step - loss: 0.5980 - acc: 0.8087 - val_loss: 0.4294 - val_acc: 0.8700\n",
      "Epoch 9/30\n",
      "800/800 [==============================] - 0s 71us/step - loss: 0.5685 - acc: 0.8188 - val_loss: 0.4116 - val_acc: 0.8900\n",
      "Epoch 10/30\n",
      "800/800 [==============================] - 0s 69us/step - loss: 0.5439 - acc: 0.8200 - val_loss: 0.3885 - val_acc: 0.8750\n",
      "Epoch 11/30\n",
      "800/800 [==============================] - 0s 72us/step - loss: 0.5062 - acc: 0.8337 - val_loss: 0.3734 - val_acc: 0.8800\n",
      "Epoch 12/30\n",
      "800/800 [==============================] - 0s 69us/step - loss: 0.4968 - acc: 0.8400 - val_loss: 0.3594 - val_acc: 0.8900\n",
      "Epoch 13/30\n",
      "800/800 [==============================] - 0s 69us/step - loss: 0.4489 - acc: 0.8387 - val_loss: 0.3578 - val_acc: 0.8800\n",
      "Epoch 14/30\n",
      "800/800 [==============================] - 0s 74us/step - loss: 0.4474 - acc: 0.8488 - val_loss: 0.3476 - val_acc: 0.8800\n",
      "Epoch 15/30\n",
      "800/800 [==============================] - 0s 71us/step - loss: 0.4031 - acc: 0.8663 - val_loss: 0.3385 - val_acc: 0.8950\n",
      "Epoch 16/30\n",
      "800/800 [==============================] - 0s 70us/step - loss: 0.3959 - acc: 0.8663 - val_loss: 0.3323 - val_acc: 0.8900\n",
      "Epoch 17/30\n",
      "800/800 [==============================] - 0s 67us/step - loss: 0.3908 - acc: 0.8600 - val_loss: 0.3306 - val_acc: 0.8900\n",
      "Epoch 18/30\n",
      "800/800 [==============================] - 0s 71us/step - loss: 0.3266 - acc: 0.8888 - val_loss: 0.3326 - val_acc: 0.8900\n",
      "Epoch 19/30\n",
      "800/800 [==============================] - 0s 72us/step - loss: 0.3687 - acc: 0.8850 - val_loss: 0.3282 - val_acc: 0.9000\n",
      "Epoch 20/30\n",
      "800/800 [==============================] - 0s 70us/step - loss: 0.3135 - acc: 0.8987 - val_loss: 0.3286 - val_acc: 0.9000\n",
      "Epoch 21/30\n",
      "800/800 [==============================] - 0s 71us/step - loss: 0.3550 - acc: 0.8862 - val_loss: 0.3252 - val_acc: 0.8900\n",
      "Epoch 22/30\n",
      "800/800 [==============================] - 0s 69us/step - loss: 0.3609 - acc: 0.8825 - val_loss: 0.3242 - val_acc: 0.8950\n",
      "Epoch 23/30\n",
      "800/800 [==============================] - 0s 72us/step - loss: 0.3018 - acc: 0.9113 - val_loss: 0.3155 - val_acc: 0.9000\n",
      "Epoch 24/30\n",
      "800/800 [==============================] - 0s 70us/step - loss: 0.3156 - acc: 0.8925 - val_loss: 0.3107 - val_acc: 0.8850\n",
      "Epoch 25/30\n",
      "800/800 [==============================] - 0s 67us/step - loss: 0.3151 - acc: 0.8962 - val_loss: 0.3170 - val_acc: 0.8900\n",
      "Epoch 26/30\n",
      "800/800 [==============================] - 0s 72us/step - loss: 0.3168 - acc: 0.8962 - val_loss: 0.3198 - val_acc: 0.8900\n",
      "Epoch 27/30\n",
      "800/800 [==============================] - 0s 67us/step - loss: 0.2592 - acc: 0.9237 - val_loss: 0.3087 - val_acc: 0.9000\n",
      "Epoch 28/30\n",
      "800/800 [==============================] - 0s 69us/step - loss: 0.2956 - acc: 0.9050 - val_loss: 0.3063 - val_acc: 0.9000\n",
      "Epoch 29/30\n",
      "800/800 [==============================] - 0s 71us/step - loss: 0.2800 - acc: 0.9125 - val_loss: 0.3045 - val_acc: 0.9000\n",
      "Epoch 30/30\n",
      "800/800 [==============================] - 0s 67us/step - loss: 0.2557 - acc: 0.9100 - val_loss: 0.3032 - val_acc: 0.8950\n"
     ]
    }
   ],
   "source": [
    "history = model.fit(x_train, y_train,\n",
    "          epochs=30,\n",
    "          batch_size=64, validation_split=0.2)"
   ]
  },
  {
   "cell_type": "code",
   "execution_count": 17,
   "metadata": {},
   "outputs": [
    {
     "data": {
      "image/png": "[encoded data removed]",
      "text/plain": [
       "<Figure size 432x288 with 1 Axes>"
      ]
     },
     "metadata": {},
     "output_type": "display_data"
    },
    {
     "data": {
      "image/png": "[encoded data removed]",
      "text/plain": [
       "<Figure size 432x288 with 1 Axes>"
      ]
     },
     "metadata": {},
     "output_type": "display_data"
    }
   ],
   "source": [
    "%matplotlib inline\n",
    "\n",
    "acc = history.history['acc']\n",
    "val_acc = history.history['val_acc']\n",
    "loss = history.history['loss']\n",
    "val_loss = history.history['val_loss']\n",
    "\n",
    "epochs = range(len(acc))\n",
    "\n",
    "plt.plot(epochs, acc, 'b', label='Training Accuracy')\n",
    "plt.plot(epochs, val_acc, 'r', label='Validation Accuracy')\n",
    "plt.title('Training and Validation Accuracy')\n",
    "plt.legend()\n",
    "\n",
    "plt.figure()\n",
    "\n",
    "plt.plot(epochs, loss, 'b', label='Training loss')\n",
    "plt.plot(epochs, val_loss, 'r', label='Validation loss')\n",
    "plt.title('Training and Validation loss')\n",
    "plt.legend()\n",
    "\n",
    "plt.show()"
   ]
  },
  {
   "cell_type": "code",
   "execution_count": 18,
   "metadata": {},
   "outputs": [
    {
     "name": "stdout",
     "output_type": "stream",
     "text": [
      "1000/1000 [==============================] - 0s 45us/step\n",
      "Accuracy on the training set: 93.90%\n",
      "200/200 [==============================] - 0s 45us/step\n",
      "Accuracy on the test set: 93.00%\n"
     ]
    }
   ],
   "source": [
    "loss, accuracy = model.evaluate(x_train, y_train)\n",
    "print('Accuracy on the training set: %.2f%%'%(accuracy * 100))\n",
    "\n",
    "loss, accuracy = model.evaluate(x_test, y_test)\n",
    "print('Accuracy on the test set: %.2f%%'%(accuracy * 100))"
   ]
  },
  {
   "cell_type": "markdown",
   "metadata": {
    "collapsed": true
   },
   "source": [
    "<div class=\"alert\">\n",
    "<div style=\"direction:ltr;text-align:left;font-family:B Tahoma\"> Practical Deep Learning Course for Computer Vision\n",
    "<br>Vahid Reza Khazaie<br>\n",
    "</div>\n",
    "<a href=\"https://www.linkedin.com/in/vahidrezakhazaie/\">LinkedIn</a> - <a href=\"https://github.com/vrkh1996\">GitHub</a>\n",
    "\n",
    "</div>"
   ]
  }
 ],
 "metadata": {
  "anaconda-cloud": {},
  "kernelspec": {
   "display_name": "Python 3",
   "language": "python",
   "name": "python3"
  },
  "language_info": {
   "codemirror_mode": {
    "name": "ipython",
    "version": 3
   },
   "file_extension": ".py",
   "mimetype": "text/x-python",
   "name": "python",
   "nbconvert_exporter": "python",
   "pygments_lexer": "ipython3",
   "version": "3.6.5"
  },
  "nbpresent": {
   "slides": {
    "300ee14f-a043-486e-b274-7ff253907cd7": {
     "id": "300ee14f-a043-486e-b274-7ff253907cd7",
     "prev": "cb74e0bc-4513-4d13-b7f1-14c3078a7927",
     "regions": {
      "26dc3f39-a230-447c-af4c-f5e5b2fb7835": {
       "attrs": {
        "height": 0.8,
        "width": 0.8,
        "x": 0.1,
        "y": 0.1
       },
       "content": {
        "cell": "c58440a5-3f8f-4f37-9c79-6bf766209406",
        "part": "whole"
       },
       "id": "26dc3f39-a230-447c-af4c-f5e5b2fb7835"
      }
     }
    },
    "878aa53a-1444-4100-8f50-7a408191c579": {
     "id": "878aa53a-1444-4100-8f50-7a408191c579",
     "prev": null,
     "regions": {
      "a6c6843a-5ea6-4fbc-b890-3b4b8ae475b3": {
       "attrs": {
        "height": 0.8,
        "width": 0.8,
        "x": 0.1,
        "y": 0.1
       },
       "content": {
        "cell": "588ee1fa-64b5-453b-ade7-8e6b2515821c",
        "part": "whole"
       },
       "id": "a6c6843a-5ea6-4fbc-b890-3b4b8ae475b3"
      }
     }
    },
    "92e1449b-15f5-40ac-89eb-9496a06af0b0": {
     "id": "92e1449b-15f5-40ac-89eb-9496a06af0b0",
     "prev": "300ee14f-a043-486e-b274-7ff253907cd7",
     "regions": {
      "ea2d28ea-4686-4b1c-832c-836c35a7524e": {
       "attrs": {
        "height": 1,
        "width": 1,
        "x": 0,
        "y": 0
       },
       "id": "ea2d28ea-4686-4b1c-832c-836c35a7524e"
      }
     }
    },
    "96ffe88e-7b50-43de-afdd-942e564f4e3e": {
     "id": "96ffe88e-7b50-43de-afdd-942e564f4e3e",
     "prev": "878aa53a-1444-4100-8f50-7a408191c579",
     "regions": {
      "b7e52e12-489a-468d-b10c-af2024fd2856": {
       "attrs": {
        "height": 0.8,
        "width": 0.8,
        "x": 0.1,
        "y": 0.1
       },
       "content": {
        "cell": "de829a92-1fb6-44ad-a2c6-fc1001e1f6e1",
        "part": "whole"
       },
       "id": "b7e52e12-489a-468d-b10c-af2024fd2856"
      }
     }
    },
    "cb74e0bc-4513-4d13-b7f1-14c3078a7927": {
     "id": "cb74e0bc-4513-4d13-b7f1-14c3078a7927",
     "prev": "96ffe88e-7b50-43de-afdd-942e564f4e3e",
     "regions": {
      "444878ee-68f3-4abb-acff-a7079b21e86d": {
       "attrs": {
        "height": 0.8,
        "width": 0.8,
        "x": 0.1,
        "y": 0.1
       },
       "content": {
        "cell": "25f3f538-1ee8-4d98-a6bb-14cbeb7a702d",
        "part": "whole"
       },
       "id": "444878ee-68f3-4abb-acff-a7079b21e86d"
      }
     }
    }
   },
   "themes": {}
  }
 },
 "nbformat": 4,
 "nbformat_minor": 1
}
