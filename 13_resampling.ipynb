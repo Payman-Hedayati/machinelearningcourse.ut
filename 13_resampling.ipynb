{
 "cells": [
  {
   "cell_type": "markdown",
   "metadata": {
    "collapsed": true
   },
   "source": [
    "<img src=\"./images/logo.png\" alt=\"utech academy\">"
   ]
  },
  {
   "cell_type": "markdown",
   "metadata": {
    "collapsed": true
   },
   "source": [
    "<div class=\"alert\">\n",
    "<div style=\"direction:ltr;text-align:left;font-family:Tahoma; font-size:16pt\">Performance Evaluation with Resampling\n",
    "</div>\n",
    "</div>"
   ]
  },
  {
   "cell_type": "code",
   "execution_count": 43,
   "metadata": {},
   "outputs": [],
   "source": [
    "import cv2\n",
    "import numpy as np\n",
    "from scipy import io\n",
    "\n",
    "\n",
    "def load_hoda(dataset_dir, training_sample_size=1000, test_sample_size=200, size=5):\n",
    "    # Load the dataset\n",
    "    trs = training_sample_size\n",
    "    tes = test_sample_size\n",
    "    dataset = io.loadmat(dataset_dir)\n",
    "\n",
    "    # Split training and test set\n",
    "    X_train_orginal = np.squeeze(dataset['Data'][:trs])\n",
    "    y_train = np.squeeze(dataset['labels'][:trs])\n",
    "    X_test_original = np.squeeze(dataset['Data'][trs:trs+tes])\n",
    "    y_test = np.squeeze(dataset['labels'][trs:trs+tes])\n",
    "\n",
    "    # Resize the dataset\n",
    "    X_train_5by5 = [cv2.resize(img, dsize=(size, size)) for img in X_train_orginal]\n",
    "    X_test_5by_5 = [cv2.resize(img, dsize=(size, size)) for img in X_test_original]\n",
    "    \n",
    "    # Reshape the dataset\n",
    "    X_train = [x.reshape(size*size) for x in X_train_5by5]\n",
    "    X_test = [x.reshape(size*size) for x in X_test_5by_5]\n",
    "    \n",
    "    return np.array(X_train), np.array(y_train), np.array(X_test), np.array(y_test)"
   ]
  },
  {
   "cell_type": "code",
   "execution_count": 44,
   "metadata": {},
   "outputs": [],
   "source": [
    "# Load the dataset\n",
    "Data, labels, _, _ = load_hoda(dataset_dir='./datasets/hoda.mat')"
   ]
  },
  {
   "cell_type": "code",
   "execution_count": 45,
   "metadata": {},
   "outputs": [],
   "source": [
    "from sklearn.model_selection import train_test_split\n",
    "\n",
    "X, X_test, Y, y_test = train_test_split(Data, labels, test_size=0.1, random_state=42)"
   ]
  },
  {
   "cell_type": "code",
   "execution_count": 46,
   "metadata": {},
   "outputs": [],
   "source": [
    "X_train, X_val, y_train, y_val = train_test_split(X, Y, test_size=0.1, random_state=42)"
   ]
  },
  {
   "cell_type": "code",
   "execution_count": 47,
   "metadata": {},
   "outputs": [
    {
     "data": {
      "text/plain": [
       "(810, 25)"
      ]
     },
     "execution_count": 47,
     "metadata": {},
     "output_type": "execute_result"
    }
   ],
   "source": [
    "X_train.shape"
   ]
  },
  {
   "cell_type": "code",
   "execution_count": 48,
   "metadata": {},
   "outputs": [
    {
     "data": {
      "text/plain": [
       "(90, 25)"
      ]
     },
     "execution_count": 48,
     "metadata": {},
     "output_type": "execute_result"
    }
   ],
   "source": [
    "X_val.shape"
   ]
  },
  {
   "cell_type": "code",
   "execution_count": 49,
   "metadata": {},
   "outputs": [
    {
     "data": {
      "text/plain": [
       "(100, 25)"
      ]
     },
     "execution_count": 49,
     "metadata": {},
     "output_type": "execute_result"
    }
   ],
   "source": [
    "X_test.shape"
   ]
  },
  {
   "cell_type": "code",
   "execution_count": 50,
   "metadata": {},
   "outputs": [],
   "source": [
    "from sklearn.neighbors import KNeighborsClassifier"
   ]
  },
  {
   "cell_type": "code",
   "execution_count": 51,
   "metadata": {},
   "outputs": [
    {
     "name": "stdout",
     "output_type": "stream",
     "text": [
      "1 : 0.8666666666666667\n",
      "3 : 0.8777777777777778\n",
      "5 : 0.8888888888888888\n",
      "7 : 0.8888888888888888\n",
      "9 : 0.8777777777777778\n",
      "11 : 0.8555555555555555\n",
      "13 : 0.8666666666666667\n",
      "15 : 0.8555555555555555\n",
      "17 : 0.8555555555555555\n",
      "19 : 0.8777777777777778\n"
     ]
    }
   ],
   "source": [
    "for k in range(1, 21, 2):\n",
    "    neigh = KNeighborsClassifier(n_neighbors=k)\n",
    "    neigh.fit(X_train, y_train)\n",
    "    print(k, ':', neigh.score(X_val, y_val))"
   ]
  },
  {
   "cell_type": "code",
   "execution_count": 10,
   "metadata": {},
   "outputs": [
    {
     "name": "stdout",
     "output_type": "stream",
     "text": [
      "0.91\n"
     ]
    }
   ],
   "source": [
    "neigh = KNeighborsClassifier(n_neighbors=5)\n",
    "neigh.fit(X_train, y_train)\n",
    "print(neigh.score(X_test, y_test))"
   ]
  },
  {
   "cell_type": "code",
   "execution_count": 17,
   "metadata": {},
   "outputs": [
    {
     "name": "stdout",
     "output_type": "stream",
     "text": [
      "Test accuracy on fold 1 : 0.905\n",
      "Test accuracy on fold 2 : 0.92\n",
      "Test accuracy on fold 3 : 0.9\n",
      "Test accuracy on fold 4 : 0.855\n",
      "Test accuracy on fold 5 : 0.86\n"
     ]
    }
   ],
   "source": [
    "from sklearn.model_selection import KFold\n",
    "\n",
    "n_split = 5\n",
    "cv = KFold(n_splits=n_split)\n",
    "fold_count = 0\n",
    "acc = []\n",
    "\n",
    "for train_idx, test_idx in cv.split(Data, labels): \n",
    "    fold_count += 1\n",
    "\n",
    "    x_train, x_test = Data[train_idx], Data[test_idx]\n",
    "    y_train, y_test = labels[train_idx], labels[test_idx]\n",
    "    \n",
    "    knn = KNeighborsClassifier(n_neighbors=5)\n",
    "    knn.fit(x_train, y_train)\n",
    "\n",
    "    score = knn.score(x_test, y_test)\n",
    "    print('Test accuracy on fold ' + str(fold_count) + ' :', score)\n",
    "    acc.append(score)"
   ]
  },
  {
   "cell_type": "code",
   "execution_count": 18,
   "metadata": {},
   "outputs": [
    {
     "name": "stdout",
     "output_type": "stream",
     "text": [
      "Accuracy: 0.88800 (+/- 0.02581)\n"
     ]
    }
   ],
   "source": [
    "acc = np.array(acc)\n",
    "print(\"Accuracy: %0.5f (+/- %0.5f)\" % (acc.mean(), acc.std()))"
   ]
  },
  {
   "cell_type": "code",
   "execution_count": 32,
   "metadata": {
    "scrolled": true
   },
   "outputs": [
    {
     "name": "stdout",
     "output_type": "stream",
     "text": [
      "Test accuracy on sample [0] : 1.0\n",
      "Test accuracy on sample [1] : 1.0\n",
      "Test accuracy on sample [2] : 1.0\n",
      "Test accuracy on sample [3] : 0.0\n",
      "Test accuracy on sample [4] : 0.0\n",
      "Test accuracy on sample [5] : 1.0\n",
      "Test accuracy on sample [6] : 1.0\n",
      "Test accuracy on sample [7] : 1.0\n",
      "Test accuracy on sample [8] : 1.0\n",
      "Test accuracy on sample [9] : 1.0\n",
      "Test accuracy on sample [10] : 1.0\n",
      "Test accuracy on sample [11] : 0.0\n",
      "Test accuracy on sample [12] : 1.0\n",
      "Test accuracy on sample [13] : 0.0\n",
      "Test accuracy on sample [14] : 1.0\n",
      "Test accuracy on sample [15] : 1.0\n",
      "Test accuracy on sample [16] : 1.0\n",
      "Test accuracy on sample [17] : 1.0\n",
      "Test accuracy on sample [18] : 1.0\n",
      "Test accuracy on sample [19] : 1.0\n",
      "Test accuracy on sample [20] : 0.0\n",
      "Test accuracy on sample [21] : 1.0\n",
      "Test accuracy on sample [22] : 0.0\n",
      "Test accuracy on sample [23] : 0.0\n",
      "Test accuracy on sample [24] : 1.0\n",
      "Test accuracy on sample [25] : 1.0\n",
      "Test accuracy on sample [26] : 0.0\n",
      "Test accuracy on sample [27] : 1.0\n",
      "Test accuracy on sample [28] : 1.0\n",
      "Test accuracy on sample [29] : 0.0\n",
      "Test accuracy on sample [30] : 1.0\n",
      "Test accuracy on sample [31] : 1.0\n",
      "Test accuracy on sample [32] : 1.0\n",
      "Test accuracy on sample [33] : 1.0\n",
      "Test accuracy on sample [34] : 1.0\n",
      "Test accuracy on sample [35] : 1.0\n",
      "Test accuracy on sample [36] : 0.0\n",
      "Test accuracy on sample [37] : 1.0\n",
      "Test accuracy on sample [38] : 1.0\n",
      "Test accuracy on sample [39] : 1.0\n",
      "Test accuracy on sample [40] : 0.0\n",
      "Test accuracy on sample [41] : 1.0\n",
      "Test accuracy on sample [42] : 0.0\n",
      "Test accuracy on sample [43] : 0.0\n",
      "Test accuracy on sample [44] : 0.0\n",
      "Test accuracy on sample [45] : 1.0\n",
      "Test accuracy on sample [46] : 1.0\n",
      "Test accuracy on sample [47] : 1.0\n",
      "Test accuracy on sample [48] : 0.0\n",
      "Test accuracy on sample [49] : 1.0\n",
      "Test accuracy on sample [50] : 1.0\n",
      "Test accuracy on sample [51] : 0.0\n",
      "Test accuracy on sample [52] : 0.0\n",
      "Test accuracy on sample [53] : 1.0\n",
      "Test accuracy on sample [54] : 1.0\n",
      "Test accuracy on sample [55] : 1.0\n",
      "Test accuracy on sample [56] : 1.0\n",
      "Test accuracy on sample [57] : 0.0\n",
      "Test accuracy on sample [58] : 0.0\n",
      "Test accuracy on sample [59] : 1.0\n",
      "Test accuracy on sample [60] : 1.0\n",
      "Test accuracy on sample [61] : 1.0\n",
      "Test accuracy on sample [62] : 1.0\n",
      "Test accuracy on sample [63] : 1.0\n",
      "Test accuracy on sample [64] : 1.0\n",
      "Test accuracy on sample [65] : 1.0\n",
      "Test accuracy on sample [66] : 1.0\n",
      "Test accuracy on sample [67] : 1.0\n",
      "Test accuracy on sample [68] : 0.0\n",
      "Test accuracy on sample [69] : 0.0\n",
      "Test accuracy on sample [70] : 1.0\n",
      "Test accuracy on sample [71] : 0.0\n",
      "Test accuracy on sample [72] : 0.0\n",
      "Test accuracy on sample [73] : 1.0\n",
      "Test accuracy on sample [74] : 1.0\n",
      "Test accuracy on sample [75] : 1.0\n",
      "Test accuracy on sample [76] : 1.0\n",
      "Test accuracy on sample [77] : 1.0\n",
      "Test accuracy on sample [78] : 0.0\n",
      "Test accuracy on sample [79] : 1.0\n",
      "Test accuracy on sample [80] : 1.0\n",
      "Test accuracy on sample [81] : 0.0\n",
      "Test accuracy on sample [82] : 0.0\n",
      "Test accuracy on sample [83] : 1.0\n",
      "Test accuracy on sample [84] : 1.0\n",
      "Test accuracy on sample [85] : 1.0\n",
      "Test accuracy on sample [86] : 1.0\n",
      "Test accuracy on sample [87] : 1.0\n",
      "Test accuracy on sample [88] : 1.0\n",
      "Test accuracy on sample [89] : 0.0\n",
      "Test accuracy on sample [90] : 1.0\n",
      "Test accuracy on sample [91] : 0.0\n",
      "Test accuracy on sample [92] : 0.0\n",
      "Test accuracy on sample [93] : 1.0\n",
      "Test accuracy on sample [94] : 1.0\n",
      "Test accuracy on sample [95] : 1.0\n",
      "Test accuracy on sample [96] : 0.0\n",
      "Test accuracy on sample [97] : 1.0\n",
      "Test accuracy on sample [98] : 1.0\n",
      "Test accuracy on sample [99] : 1.0\n"
     ]
    }
   ],
   "source": [
    "from sklearn.model_selection import LeaveOneOut\n",
    "\n",
    "loo = LeaveOneOut()\n",
    "acc = []\n",
    "n = 100\n",
    "\n",
    "for train_index, test_index in loo.split(Data[:n]):\n",
    "    x_train, x_test = Data[:n][train_index], Data[:n][test_index]\n",
    "    y_train, y_test = labels[train_index], labels[test_index]\n",
    "    \n",
    "    knn = KNeighborsClassifier(n_neighbors=5)\n",
    "    knn.fit(x_train, y_train)\n",
    "\n",
    "    score = knn.score(x_test, y_test)\n",
    "    print('Test accuracy on sample ' + str(test_index) + ' :', score)\n",
    "    acc.append(score)"
   ]
  },
  {
   "cell_type": "code",
   "execution_count": 33,
   "metadata": {},
   "outputs": [
    {
     "name": "stdout",
     "output_type": "stream",
     "text": [
      "Accuracy: 0.70000 (+/- 0.45826)\n"
     ]
    }
   ],
   "source": [
    "acc = np.array(acc)\n",
    "print(\"Accuracy: %0.5f (+/- %0.5f)\" % (acc.mean(), acc.std()))"
   ]
  },
  {
   "cell_type": "code",
   "execution_count": 41,
   "metadata": {
    "scrolled": true
   },
   "outputs": [
    {
     "name": "stdout",
     "output_type": "stream",
     "text": [
      "Test accuracy in turn 0 : 0.85\n",
      "Test accuracy in turn 1 : 0.9\n",
      "Test accuracy in turn 2 : 0.88\n",
      "Test accuracy in turn 3 : 0.94\n",
      "Test accuracy in turn 4 : 0.92\n",
      "Test accuracy in turn 5 : 0.93\n",
      "Test accuracy in turn 6 : 0.91\n",
      "Test accuracy in turn 7 : 0.9\n",
      "Test accuracy in turn 8 : 0.94\n",
      "Test accuracy in turn 9 : 0.93\n",
      "Test accuracy in turn 10 : 0.9\n",
      "Test accuracy in turn 11 : 0.87\n",
      "Test accuracy in turn 12 : 0.91\n",
      "Test accuracy in turn 13 : 0.89\n",
      "Test accuracy in turn 14 : 0.87\n",
      "Test accuracy in turn 15 : 0.87\n",
      "Test accuracy in turn 16 : 0.86\n",
      "Test accuracy in turn 17 : 0.93\n",
      "Test accuracy in turn 18 : 0.9\n",
      "Test accuracy in turn 19 : 0.89\n",
      "Test accuracy in turn 20 : 0.83\n",
      "Test accuracy in turn 21 : 0.91\n",
      "Test accuracy in turn 22 : 0.94\n",
      "Test accuracy in turn 23 : 0.91\n",
      "Test accuracy in turn 24 : 0.88\n",
      "Test accuracy in turn 25 : 0.83\n",
      "Test accuracy in turn 26 : 0.9\n",
      "Test accuracy in turn 27 : 0.91\n",
      "Test accuracy in turn 28 : 0.85\n",
      "Test accuracy in turn 29 : 0.92\n",
      "Test accuracy in turn 30 : 0.86\n",
      "Test accuracy in turn 31 : 0.92\n",
      "Test accuracy in turn 32 : 0.88\n",
      "Test accuracy in turn 33 : 0.9\n",
      "Test accuracy in turn 34 : 0.88\n",
      "Test accuracy in turn 35 : 0.88\n",
      "Test accuracy in turn 36 : 0.91\n",
      "Test accuracy in turn 37 : 0.85\n",
      "Test accuracy in turn 38 : 0.93\n",
      "Test accuracy in turn 39 : 0.88\n",
      "Test accuracy in turn 40 : 0.9\n",
      "Test accuracy in turn 41 : 0.85\n",
      "Test accuracy in turn 42 : 0.9\n",
      "Test accuracy in turn 43 : 0.87\n",
      "Test accuracy in turn 44 : 0.93\n",
      "Test accuracy in turn 45 : 0.93\n",
      "Test accuracy in turn 46 : 0.93\n",
      "Test accuracy in turn 47 : 0.89\n",
      "Test accuracy in turn 48 : 0.91\n",
      "Test accuracy in turn 49 : 0.9\n",
      "Test accuracy in turn 50 : 0.89\n",
      "Test accuracy in turn 51 : 0.92\n",
      "Test accuracy in turn 52 : 0.85\n",
      "Test accuracy in turn 53 : 0.93\n",
      "Test accuracy in turn 54 : 0.87\n",
      "Test accuracy in turn 55 : 0.87\n",
      "Test accuracy in turn 56 : 0.88\n",
      "Test accuracy in turn 57 : 0.87\n",
      "Test accuracy in turn 58 : 0.88\n",
      "Test accuracy in turn 59 : 0.92\n",
      "Test accuracy in turn 60 : 0.83\n",
      "Test accuracy in turn 61 : 0.94\n",
      "Test accuracy in turn 62 : 0.91\n",
      "Test accuracy in turn 63 : 0.89\n",
      "Test accuracy in turn 64 : 0.87\n",
      "Test accuracy in turn 65 : 0.93\n",
      "Test accuracy in turn 66 : 0.93\n",
      "Test accuracy in turn 67 : 0.88\n",
      "Test accuracy in turn 68 : 0.95\n",
      "Test accuracy in turn 69 : 0.92\n",
      "Test accuracy in turn 70 : 0.86\n",
      "Test accuracy in turn 71 : 0.83\n",
      "Test accuracy in turn 72 : 0.86\n",
      "Test accuracy in turn 73 : 0.88\n",
      "Test accuracy in turn 74 : 0.88\n",
      "Test accuracy in turn 75 : 0.82\n",
      "Test accuracy in turn 76 : 0.94\n",
      "Test accuracy in turn 77 : 0.94\n",
      "Test accuracy in turn 78 : 0.88\n",
      "Test accuracy in turn 79 : 0.9\n",
      "Test accuracy in turn 80 : 0.87\n",
      "Test accuracy in turn 81 : 0.95\n",
      "Test accuracy in turn 82 : 0.87\n",
      "Test accuracy in turn 83 : 0.93\n",
      "Test accuracy in turn 84 : 0.86\n",
      "Test accuracy in turn 85 : 0.93\n",
      "Test accuracy in turn 86 : 0.9\n",
      "Test accuracy in turn 87 : 0.84\n",
      "Test accuracy in turn 88 : 0.87\n",
      "Test accuracy in turn 89 : 0.93\n",
      "Test accuracy in turn 90 : 0.95\n",
      "Test accuracy in turn 91 : 0.87\n",
      "Test accuracy in turn 92 : 0.9\n",
      "Test accuracy in turn 93 : 0.87\n",
      "Test accuracy in turn 94 : 0.95\n",
      "Test accuracy in turn 95 : 0.87\n",
      "Test accuracy in turn 96 : 0.85\n",
      "Test accuracy in turn 97 : 0.92\n",
      "Test accuracy in turn 98 : 0.9\n",
      "Test accuracy in turn 99 : 0.86\n"
     ]
    }
   ],
   "source": [
    "acc = []\n",
    "\n",
    "for i in range(100):\n",
    "    X, X_test, Y, y_test = train_test_split(Data, labels, test_size=0.1)\n",
    "    \n",
    "    knn = KNeighborsClassifier(n_neighbors=5)\n",
    "    knn.fit(X, Y)\n",
    "\n",
    "    score = knn.score(X_test, y_test)\n",
    "    print('Test accuracy in turn ' + str(i) + ' :', score)\n",
    "    acc.append(score)"
   ]
  },
  {
   "cell_type": "code",
   "execution_count": 42,
   "metadata": {},
   "outputs": [
    {
     "name": "stdout",
     "output_type": "stream",
     "text": [
      "Accuracy: 0.89380 (+/- 0.03212)\n"
     ]
    }
   ],
   "source": [
    "acc = np.array(acc)\n",
    "print(\"Accuracy: %0.5f (+/- %0.5f)\" % (acc.mean(), acc.std()))"
   ]
  },
  {
   "cell_type": "markdown",
   "metadata": {
    "collapsed": true
   },
   "source": [
    "<div class=\"alert\">\n",
    "<div style=\"direction:ltr;text-align:left;font-family:B Tahoma\"> Machine Learning Course\n",
    "<br>Vahid Reza Khazaie<br>\n",
    "</div>\n",
    "<a href=\"https://www.linkedin.com/in/vahidrezakhazaie/\">LinkedIn</a> - <a href=\"https://github.com/vrkh1996\">GitHub</a>\n",
    "\n",
    "</div>"
   ]
  }
 ],
 "metadata": {
  "anaconda-cloud": {},
  "kernelspec": {
   "display_name": "Python 3",
   "language": "python",
   "name": "python3"
  },
  "language_info": {
   "codemirror_mode": {
    "name": "ipython",
    "version": 3
   },
   "file_extension": ".py",
   "mimetype": "text/x-python",
   "name": "python",
   "nbconvert_exporter": "python",
   "pygments_lexer": "ipython3",
   "version": "3.6.5"
  },
  "nbpresent": {
   "slides": {
    "300ee14f-a043-486e-b274-7ff253907cd7": {
     "id": "300ee14f-a043-486e-b274-7ff253907cd7",
     "prev": "cb74e0bc-4513-4d13-b7f1-14c3078a7927",
     "regions": {
      "26dc3f39-a230-447c-af4c-f5e5b2fb7835": {
       "attrs": {
        "height": 0.8,
        "width": 0.8,
        "x": 0.1,
        "y": 0.1
       },
       "content": {
        "cell": "c58440a5-3f8f-4f37-9c79-6bf766209406",
        "part": "whole"
       },
       "id": "26dc3f39-a230-447c-af4c-f5e5b2fb7835"
      }
     }
    },
    "878aa53a-1444-4100-8f50-7a408191c579": {
     "id": "878aa53a-1444-4100-8f50-7a408191c579",
     "prev": null,
     "regions": {
      "a6c6843a-5ea6-4fbc-b890-3b4b8ae475b3": {
       "attrs": {
        "height": 0.8,
        "width": 0.8,
        "x": 0.1,
        "y": 0.1
       },
       "content": {
        "cell": "588ee1fa-64b5-453b-ade7-8e6b2515821c",
        "part": "whole"
       },
       "id": "a6c6843a-5ea6-4fbc-b890-3b4b8ae475b3"
      }
     }
    },
    "92e1449b-15f5-40ac-89eb-9496a06af0b0": {
     "id": "92e1449b-15f5-40ac-89eb-9496a06af0b0",
     "prev": "300ee14f-a043-486e-b274-7ff253907cd7",
     "regions": {
      "ea2d28ea-4686-4b1c-832c-836c35a7524e": {
       "attrs": {
        "height": 1,
        "width": 1,
        "x": 0,
        "y": 0
       },
       "id": "ea2d28ea-4686-4b1c-832c-836c35a7524e"
      }
     }
    },
    "96ffe88e-7b50-43de-afdd-942e564f4e3e": {
     "id": "96ffe88e-7b50-43de-afdd-942e564f4e3e",
     "prev": "878aa53a-1444-4100-8f50-7a408191c579",
     "regions": {
      "b7e52e12-489a-468d-b10c-af2024fd2856": {
       "attrs": {
        "height": 0.8,
        "width": 0.8,
        "x": 0.1,
        "y": 0.1
       },
       "content": {
        "cell": "de829a92-1fb6-44ad-a2c6-fc1001e1f6e1",
        "part": "whole"
       },
       "id": "b7e52e12-489a-468d-b10c-af2024fd2856"
      }
     }
    },
    "cb74e0bc-4513-4d13-b7f1-14c3078a7927": {
     "id": "cb74e0bc-4513-4d13-b7f1-14c3078a7927",
     "prev": "96ffe88e-7b50-43de-afdd-942e564f4e3e",
     "regions": {
      "444878ee-68f3-4abb-acff-a7079b21e86d": {
       "attrs": {
        "height": 0.8,
        "width": 0.8,
        "x": 0.1,
        "y": 0.1
       },
       "content": {
        "cell": "25f3f538-1ee8-4d98-a6bb-14cbeb7a702d",
        "part": "whole"
       },
       "id": "444878ee-68f3-4abb-acff-a7079b21e86d"
      }
     }
    }
   },
   "themes": {}
  }
 },
 "nbformat": 4,
 "nbformat_minor": 1
}
